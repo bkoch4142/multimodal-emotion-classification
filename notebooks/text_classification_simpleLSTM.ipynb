{
 "cells": [
  {
   "cell_type": "code",
   "execution_count": 1165,
   "id": "ba1a0679",
   "metadata": {},
   "outputs": [],
   "source": [
    "import pandas as pd\n",
    "import os\n",
    "\n",
    "from sklearn.preprocessing import OrdinalEncoder\n",
    "from sklearn import metrics\n",
    "\n",
    "from torch.utils.data import DataLoader\n",
    "import torch.nn as nn\n",
    "import torch.optim as optim\n",
    "\n",
    "import matplotlib.pyplot as plt\n",
    "\n",
    "from sklearn.utils.class_weight import compute_class_weight\n",
    "\n",
    " \n",
    "DATA_FOLDER_PTH=os.path.join(os.getcwd(), os.pardir, 'data')\n",
    " \n",
    "TRAIN_AUDIO_FOLDER_PTH=os.path.join(DATA_FOLDER_PTH, 'raw/MELD/train', 'train_splits')\n",
    "TRAIN_TEXT_FILE_PTH=os.path.join(DATA_FOLDER_PTH, 'raw/MELD/train', 'train_sent_emo.csv')\n",
    " \n",
    "DEV_AUDIO_FOLDER_PTH=os.path.join(DATA_FOLDER_PTH, 'raw/MELD/dev', 'dev_splits_complete')\n",
    "DEV_TEXT_FILE_PTH=os.path.join(DATA_FOLDER_PTH, 'raw/MELD/dev', 'dev_sent_emo.csv')\n",
    " \n",
    "TEST_AUDIO_FOLDER_PTH=os.path.join(DATA_FOLDER_PTH, 'raw/MELD/test', 'output_repeated_splits_test')\n",
    "TEST_TEXT_FILE_PTH=os.path.join(DATA_FOLDER_PTH, 'raw/MELD/test', 'test_sent_emo.csv')"
   ]
  },
  {
   "cell_type": "code",
   "execution_count": 1166,
   "id": "ab0c1fad",
   "metadata": {},
   "outputs": [
    {
     "name": "stdout",
     "output_type": "stream",
     "text": [
      "NVIDIA GeForce RTX 2070 SUPER\n"
     ]
    }
   ],
   "source": [
    "device = torch.device(\"cuda\" if torch.cuda.is_available() else \"cpu\")\n",
    "if device.type == 'cuda':\n",
    "            print(torch.cuda.get_device_name(0))"
   ]
  },
  {
   "cell_type": "code",
   "execution_count": 1167,
   "id": "a1d56383",
   "metadata": {},
   "outputs": [],
   "source": [
    "%run text_dataset.ipynb"
   ]
  },
  {
   "cell_type": "code",
   "execution_count": 1168,
   "id": "99546ce7",
   "metadata": {},
   "outputs": [],
   "source": [
    "batchSize = 128\n",
    "embedding_dim = 50\n"
   ]
  },
  {
   "cell_type": "code",
   "execution_count": 1169,
   "id": "59d81828",
   "metadata": {},
   "outputs": [],
   "source": [
    "train_dataset = TextDataset(dataset_type = 'train', label_target = 'Emotion', embedding_dim = embedding_dim)\n",
    "val_dataset = TextDataset(dataset_type = 'validation', label_target = 'Emotion', embedding_dim = embedding_dim)"
   ]
  },
  {
   "cell_type": "code",
   "execution_count": 1170,
   "id": "3e6f42b6",
   "metadata": {},
   "outputs": [],
   "source": [
    "train_loader = DataLoader(train_dataset,\n",
    "                          shuffle=True,\n",
    "                          num_workers=0,\n",
    "                          batch_size=batchSize,\n",
    "                          pin_memory=True)\n",
    "\n",
    "val_loader = DataLoader(val_dataset,\n",
    "                          shuffle=True,\n",
    "                          num_workers=0,\n",
    "                          batch_size=batchSize,\n",
    "                          pin_memory=True)"
   ]
  },
  {
   "cell_type": "code",
   "execution_count": 1171,
   "id": "45bdc754",
   "metadata": {},
   "outputs": [],
   "source": [
    "#next(iter(train_loader))"
   ]
  },
  {
   "cell_type": "code",
   "execution_count": 1172,
   "id": "26dcd292",
   "metadata": {},
   "outputs": [],
   "source": [
    "%run text_model_simpleLSTM.ipynb"
   ]
  },
  {
   "cell_type": "markdown",
   "id": "9784ce42",
   "metadata": {},
   "source": [
    "## Train simpleLSTM for emotion"
   ]
  },
  {
   "cell_type": "code",
   "execution_count": 1173,
   "id": "192a6f22",
   "metadata": {
    "scrolled": true
   },
   "outputs": [
    {
     "data": {
      "text/plain": [
       "simpleLSTM(\n",
       "  (lstm): LSTM(50, 32, batch_first=True)\n",
       "  (classifier): Linear(in_features=32, out_features=7, bias=True)\n",
       ")"
      ]
     },
     "execution_count": 1173,
     "metadata": {},
     "output_type": "execute_result"
    }
   ],
   "source": [
    "model = simpleLSTM(embedding_dim = embedding_dim, output_dim = 7)\n",
    "\n",
    "model = model.to(device)\n",
    "model"
   ]
  },
  {
   "cell_type": "code",
   "execution_count": 1174,
   "id": "7da37f8c",
   "metadata": {},
   "outputs": [
    {
     "name": "stdout",
     "output_type": "stream",
     "text": [
      "tensor([0.3030, 1.1842, 5.3246, 2.0893, 0.8187, 5.2657, 1.2867],\n",
      "       device='cuda:0')\n"
     ]
    }
   ],
   "source": [
    "labels = data['Emotion']\n",
    "classes = ['neutral', 'surprise', 'fear', 'sadness', 'joy', 'disgust', 'anger']\n",
    "\n",
    "class_weights = compute_class_weight('balanced', classes = classes, y = np.array(labels))\n",
    "class_weights = torch.tensor(class_weights, dtype=torch.float)\n",
    "\n",
    "class_weights = class_weights.to(device)\n",
    "print(class_weights)"
   ]
  },
  {
   "cell_type": "code",
   "execution_count": 1175,
   "id": "30601930",
   "metadata": {},
   "outputs": [],
   "source": [
    "def trainLoop(model, train_loader, val_loader, shouldSave=False):\n",
    "    \n",
    "    model.train()\n",
    "    \n",
    "    EPOCHS = 20\n",
    "    lr = 0.001\n",
    "    #criterion = nn.CrossEntropyLoss()\n",
    "    criterion = nn.CrossEntropyLoss(weight=class_weights)\n",
    "    optimizer = optim.Adam(model.parameters(), lr)\n",
    "\n",
    "    i = 0\n",
    "    counterTrain = []\n",
    "    lossHistoryTrain = []\n",
    "\n",
    "    j = 0\n",
    "    counterVal = []\n",
    "    lossHistoryVal = []\n",
    "    epochsSinceLastImprovement = 0\n",
    "    bestLoss = None\n",
    "    bestModel = model.state_dict()\n",
    "\n",
    "    for epoch in tqdm(range(0, EPOCHS)):\n",
    "        \n",
    "        trainLoss = 0\n",
    "\n",
    "        for data in train_loader:\n",
    "            \n",
    "            X, y = data\n",
    "            X = X.to(device)\n",
    "            y = y.to(device)\n",
    "\n",
    "            optimizer.zero_grad()\n",
    "\n",
    "            out = model(X)\n",
    "            \n",
    "            #print(out[0])\n",
    "            #print(y)\n",
    "            loss = criterion(out, y)\n",
    "            loss.backward()\n",
    "            \n",
    "            trainLoss += loss.item()\n",
    "            \n",
    "            optimizer.step()\n",
    "\n",
    "        trainLoss = trainLoss / len(train_loader)\n",
    "            \n",
    "        counterTrain.append(epoch)\n",
    "        lossHistoryTrain.append(trainLoss)\n",
    "\n",
    "        with torch.no_grad():\n",
    "\n",
    "            validationLoss = 0\n",
    "\n",
    "            for data in val_loader:\n",
    "\n",
    "                X, y = data\n",
    "                X = X.to(device)\n",
    "                y = y.to(device)\n",
    "                \n",
    "                out = model(X)\n",
    "\n",
    "                loss = criterion(out, y)\n",
    "\n",
    "                validationLoss += loss\n",
    "\n",
    "            \n",
    "            validationLoss = validationLoss / len(val_loader)\n",
    "            \n",
    "            counterVal.append(epoch)\n",
    "            lossHistoryVal.append(validationLoss)\n",
    "\n",
    "\n",
    "    return counterTrain, lossHistoryTrain, counterVal, lossHistoryVal"
   ]
  },
  {
   "cell_type": "code",
   "execution_count": 1176,
   "id": "0fd0cf14",
   "metadata": {},
   "outputs": [
    {
     "name": "stderr",
     "output_type": "stream",
     "text": [
      "100%|██████████████████████████████████████████████████████████████████████████████████| 20/20 [00:46<00:00,  2.33s/it]\n"
     ]
    }
   ],
   "source": [
    "counterTrain, lossHistoryTrain, counterVal, lossHistoryVal = trainLoop(model, train_loader, val_loader)"
   ]
  },
  {
   "cell_type": "code",
   "execution_count": 1177,
   "id": "c3423f5a",
   "metadata": {},
   "outputs": [],
   "source": [
    "def plotLoss(counter_train, loss_history_train, counter_test, loss_history_test, shouldSave=False, shouldDisplay=True):\n",
    "    \n",
    "    plt.plot(counter_train, loss_history_train, label=\"Train\")\n",
    "\n",
    "    plt.plot(counter_test, loss_history_test, label=\"Test\")\n",
    "\n",
    "#     fig, ax = plt.subplots(2, figsize=(12.83, 9.19))\n",
    "#     #fig.suptitle(f'BestModelAtEpoch: {self.earlyStoppedAtEpoch} lr: {self.lr}, weightDecay: {self.weightDecay}, momentum: {self.momentum}, batchSize:{self.batchSize}, optim: {self.optim}, lastLayerActivation:{self.lastLayerActivation}')\n",
    "\n",
    "#     ax[0].plot(counter_train, loss_history_train, label=\"Train\")\n",
    "#     ax[0].grid(True)\n",
    "\n",
    "#     ax[1].plot(counter_test, loss_history_test, label=\"Test\")\n",
    "#     ax[1].grid(True)\n",
    "\n",
    "#     if shouldSave:\n",
    "#         today = datetime.now()\n",
    "#         path = \"./Figures/\" + today.strftime('%d_%m_%Y_%H_%M')\n",
    "#         fig.tight_layout()\n",
    "#         fig.subplots_adjust(top=.95)\n",
    "#         plt.savefig(path, dpi=300)\n",
    "\n",
    "    if shouldDisplay:\n",
    "        plt.show()"
   ]
  },
  {
   "cell_type": "code",
   "execution_count": 1178,
   "id": "895e91a0",
   "metadata": {},
   "outputs": [
    {
     "data": {
      "image/png": "[encoded data removed]",
      "text/plain": [
       "<Figure size 432x288 with 1 Axes>"
      ]
     },
     "metadata": {
      "needs_background": "light"
     },
     "output_type": "display_data"
    }
   ],
   "source": [
    "plotLoss(counterTrain, lossHistoryTrain, counterVal, lossHistoryVal)"
   ]
  },
  {
   "cell_type": "markdown",
   "id": "d8e1f2bf",
   "metadata": {},
   "source": [
    "# Evaluation"
   ]
  },
  {
   "cell_type": "code",
   "execution_count": 1179,
   "id": "7a78f733",
   "metadata": {},
   "outputs": [],
   "source": [
    "val_loader = DataLoader(val_dataset,\n",
    "                          shuffle=True,\n",
    "                          num_workers=0,\n",
    "                          batch_size=len(val_dataset),\n",
    "                          pin_memory=True)"
   ]
  },
  {
   "cell_type": "code",
   "execution_count": 1180,
   "id": "c61e7876",
   "metadata": {
    "scrolled": true
   },
   "outputs": [
    {
     "name": "stdout",
     "output_type": "stream",
     "text": [
      "tensor([0, 6, 0,  ..., 0, 0, 0])\n",
      "[6. 6. 6. ... 6. 6. 6.]\n",
      "[0. 6. 0. ... 0. 0. 0.]\n",
      "              precision    recall  f1-score   support\n",
      "\n",
      "     neutral       0.00      0.00      0.00       529\n",
      "    surprise       0.00      0.00      0.00       131\n",
      "        fear       0.00      0.00      0.00        44\n",
      "     sadness       0.00      0.00      0.00        51\n",
      "         joy       0.00      0.00      0.00       206\n",
      "     disgust       0.00      0.00      0.00        31\n",
      "       anger       0.11      1.00      0.19       117\n",
      "\n",
      "    accuracy                           0.11      1109\n",
      "   macro avg       0.02      0.14      0.03      1109\n",
      "weighted avg       0.01      0.11      0.02      1109\n",
      "\n"
     ]
    },
    {
     "name": "stderr",
     "output_type": "stream",
     "text": [
      "D:\\ProgramData\\Anaconda3\\envs\\mlenv\\lib\\site-packages\\sklearn\\metrics\\_classification.py:1245: UndefinedMetricWarning: Precision and F-score are ill-defined and being set to 0.0 in labels with no predicted samples. Use `zero_division` parameter to control this behavior.\n",
      "  _warn_prf(average, modifier, msg_start, len(result))\n",
      "D:\\ProgramData\\Anaconda3\\envs\\mlenv\\lib\\site-packages\\sklearn\\metrics\\_classification.py:1245: UndefinedMetricWarning: Precision and F-score are ill-defined and being set to 0.0 in labels with no predicted samples. Use `zero_division` parameter to control this behavior.\n",
      "  _warn_prf(average, modifier, msg_start, len(result))\n",
      "D:\\ProgramData\\Anaconda3\\envs\\mlenv\\lib\\site-packages\\sklearn\\metrics\\_classification.py:1245: UndefinedMetricWarning: Precision and F-score are ill-defined and being set to 0.0 in labels with no predicted samples. Use `zero_division` parameter to control this behavior.\n",
      "  _warn_prf(average, modifier, msg_start, len(result))\n"
     ]
    }
   ],
   "source": [
    "with torch.no_grad():\n",
    "    \n",
    "    model.eval()\n",
    "    \n",
    "    X, y = next(iter(val_loader))\n",
    "    print(y)\n",
    "    X = X.to(device)\n",
    "    \n",
    "    out = model(X)\n",
    "    #print(out)\n",
    "    predictions = F.softmax(out, dim=1).cpu()\n",
    "    #print(predictions)\n",
    "    \n",
    "    predictions = torch.argmax(predictions, dim = 1).numpy().astype(dtype=np.float)\n",
    "    y = y.numpy().astype(dtype=np.float)\n",
    "    print(predictions)\n",
    "    print(y)\n",
    "    print(metrics.classification_report(y, predictions, target_names=classes))"
   ]
  },
  {
   "cell_type": "code",
   "execution_count": 1181,
   "id": "113cf061",
   "metadata": {},
   "outputs": [
    {
     "data": {
      "text/html": [
       "<div>\n",
       "<style scoped>\n",
       "    .dataframe tbody tr th:only-of-type {\n",
       "        vertical-align: middle;\n",
       "    }\n",
       "\n",
       "    .dataframe tbody tr th {\n",
       "        vertical-align: top;\n",
       "    }\n",
       "\n",
       "    .dataframe thead th {\n",
       "        text-align: right;\n",
       "    }\n",
       "</style>\n",
       "<table border=\"1\" class=\"dataframe\">\n",
       "  <thead>\n",
       "    <tr style=\"text-align: right;\">\n",
       "      <th></th>\n",
       "      <th>neutral</th>\n",
       "      <th>surprise</th>\n",
       "      <th>fear</th>\n",
       "      <th>sadness</th>\n",
       "      <th>joy</th>\n",
       "      <th>disgust</th>\n",
       "      <th>anger</th>\n",
       "    </tr>\n",
       "  </thead>\n",
       "  <tbody>\n",
       "    <tr>\n",
       "      <th>neutral</th>\n",
       "      <td>0</td>\n",
       "      <td>0</td>\n",
       "      <td>0</td>\n",
       "      <td>0</td>\n",
       "      <td>0</td>\n",
       "      <td>0</td>\n",
       "      <td>529</td>\n",
       "    </tr>\n",
       "    <tr>\n",
       "      <th>surprise</th>\n",
       "      <td>0</td>\n",
       "      <td>0</td>\n",
       "      <td>0</td>\n",
       "      <td>0</td>\n",
       "      <td>0</td>\n",
       "      <td>0</td>\n",
       "      <td>131</td>\n",
       "    </tr>\n",
       "    <tr>\n",
       "      <th>fear</th>\n",
       "      <td>0</td>\n",
       "      <td>0</td>\n",
       "      <td>0</td>\n",
       "      <td>0</td>\n",
       "      <td>0</td>\n",
       "      <td>0</td>\n",
       "      <td>44</td>\n",
       "    </tr>\n",
       "    <tr>\n",
       "      <th>sadness</th>\n",
       "      <td>0</td>\n",
       "      <td>0</td>\n",
       "      <td>0</td>\n",
       "      <td>0</td>\n",
       "      <td>0</td>\n",
       "      <td>0</td>\n",
       "      <td>51</td>\n",
       "    </tr>\n",
       "    <tr>\n",
       "      <th>joy</th>\n",
       "      <td>0</td>\n",
       "      <td>0</td>\n",
       "      <td>0</td>\n",
       "      <td>0</td>\n",
       "      <td>0</td>\n",
       "      <td>0</td>\n",
       "      <td>206</td>\n",
       "    </tr>\n",
       "    <tr>\n",
       "      <th>disgust</th>\n",
       "      <td>0</td>\n",
       "      <td>0</td>\n",
       "      <td>0</td>\n",
       "      <td>0</td>\n",
       "      <td>0</td>\n",
       "      <td>0</td>\n",
       "      <td>31</td>\n",
       "    </tr>\n",
       "    <tr>\n",
       "      <th>anger</th>\n",
       "      <td>0</td>\n",
       "      <td>0</td>\n",
       "      <td>0</td>\n",
       "      <td>0</td>\n",
       "      <td>0</td>\n",
       "      <td>0</td>\n",
       "      <td>117</td>\n",
       "    </tr>\n",
       "  </tbody>\n",
       "</table>\n",
       "</div>"
      ],
      "text/plain": [
       "          neutral  surprise  fear  sadness  joy  disgust  anger\n",
       "neutral         0         0     0        0    0        0    529\n",
       "surprise        0         0     0        0    0        0    131\n",
       "fear            0         0     0        0    0        0     44\n",
       "sadness         0         0     0        0    0        0     51\n",
       "joy             0         0     0        0    0        0    206\n",
       "disgust         0         0     0        0    0        0     31\n",
       "anger           0         0     0        0    0        0    117"
      ]
     },
     "execution_count": 1181,
     "metadata": {},
     "output_type": "execute_result"
    }
   ],
   "source": [
    "pd.DataFrame(metrics.confusion_matrix(y, predictions), index = classes, columns = classes)"
   ]
  },
  {
   "cell_type": "code",
   "execution_count": null,
   "id": "ad9f61d2",
   "metadata": {},
   "outputs": [],
   "source": []
  },
  {
   "cell_type": "code",
   "execution_count": null,
   "id": "f52317a8",
   "metadata": {},
   "outputs": [],
   "source": []
  },
  {
   "cell_type": "code",
   "execution_count": null,
   "id": "150d5fb4",
   "metadata": {},
   "outputs": [],
   "source": []
  },
  {
   "cell_type": "code",
   "execution_count": null,
   "id": "5b9cd96a",
   "metadata": {},
   "outputs": [],
   "source": []
  },
  {
   "cell_type": "code",
   "execution_count": null,
   "id": "b7e92fba",
   "metadata": {},
   "outputs": [],
   "source": []
  }
 ],
 "metadata": {
  "kernelspec": {
   "display_name": "Python 3",
   "language": "python",
   "name": "python3"
  },
  "language_info": {
   "codemirror_mode": {
    "name": "ipython",
    "version": 3
   },
   "file_extension": ".py",
   "mimetype": "text/x-python",
   "name": "python",
   "nbconvert_exporter": "python",
   "pygments_lexer": "ipython3",
   "version": "3.8.5"
  }
 },
 "nbformat": 4,
 "nbformat_minor": 5
}
