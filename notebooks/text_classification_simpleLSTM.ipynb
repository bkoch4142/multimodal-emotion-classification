{
 "cells": [
  {
   "cell_type": "code",
   "execution_count": 1,
   "id": "ba1a0679",
   "metadata": {},
   "outputs": [],
   "source": [
    "import pandas as pd\n",
    "import os\n",
    "\n",
    "import torch\n",
    "\n",
    "from sklearn.preprocessing import OrdinalEncoder\n",
    "from sklearn import metrics\n",
    "\n",
    "from torch.utils.data import DataLoader\n",
    "import torch.nn as nn\n",
    "import torch.optim as optim\n",
    "\n",
    "import matplotlib.pyplot as plt\n",
    "\n",
    "from sklearn.utils.class_weight import compute_class_weight\n",
    "\n",
    "from tqdm import tqdm\n",
    "\n",
    " \n",
    "DATA_FOLDER_PTH=os.path.join(os.getcwd(), os.pardir, 'data')\n",
    " \n",
    "TRAIN_AUDIO_FOLDER_PTH=os.path.join(DATA_FOLDER_PTH, 'raw/MELD/train', 'train_splits')\n",
    "TRAIN_TEXT_FILE_PTH=os.path.join(DATA_FOLDER_PTH, 'raw/MELD/train', 'train_sent_emo.csv')\n",
    " \n",
    "DEV_AUDIO_FOLDER_PTH=os.path.join(DATA_FOLDER_PTH, 'raw/MELD/dev', 'dev_splits_complete')\n",
    "DEV_TEXT_FILE_PTH=os.path.join(DATA_FOLDER_PTH, 'raw/MELD/dev', 'dev_sent_emo.csv')\n",
    " \n",
    "TEST_AUDIO_FOLDER_PTH=os.path.join(DATA_FOLDER_PTH, 'raw/MELD/test', 'output_repeated_splits_test')\n",
    "TEST_TEXT_FILE_PTH=os.path.join(DATA_FOLDER_PTH, 'raw/MELD/test', 'test_sent_emo.csv')"
   ]
  },
  {
   "cell_type": "code",
   "execution_count": 2,
   "id": "359bfdfb",
   "metadata": {},
   "outputs": [
    {
     "name": "stdout",
     "output_type": "stream",
     "text": [
      "NVIDIA GeForce RTX 2070 SUPER\n"
     ]
    }
   ],
   "source": [
    "device = torch.device(\"cuda\" if torch.cuda.is_available() else \"cpu\")\n",
    "if device.type == 'cuda':\n",
    "            print(torch.cuda.get_device_name(0))"
   ]
  },
  {
   "cell_type": "code",
   "execution_count": 3,
   "id": "ececfc2f",
   "metadata": {},
   "outputs": [],
   "source": [
    "%run text_dataset.ipynb"
   ]
  },
  {
   "cell_type": "code",
   "execution_count": 4,
   "id": "3768943b",
   "metadata": {},
   "outputs": [],
   "source": [
    "batchSize = 32    # as in paper\n",
    "embedding_dim = 50\n"
   ]
  },
  {
   "cell_type": "code",
   "execution_count": 5,
   "id": "3fc6578a",
   "metadata": {},
   "outputs": [],
   "source": [
    "train_dataset = TextDataset(dataset_type = 'train', label_target = 'Emotion', embedding_dim = embedding_dim)\n",
    "val_dataset = TextDataset(dataset_type = 'validation', label_target = 'Emotion', embedding_dim = embedding_dim)"
   ]
  },
  {
   "cell_type": "code",
   "execution_count": 6,
   "id": "c2f2b7ed",
   "metadata": {},
   "outputs": [],
   "source": [
    "train_loader = DataLoader(train_dataset,\n",
    "                          shuffle=True,\n",
    "                          num_workers=0,\n",
    "                          batch_size=batchSize,\n",
    "                          pin_memory=True)\n",
    "\n",
    "val_loader = DataLoader(val_dataset,\n",
    "                          shuffle=True,\n",
    "                          num_workers=0,\n",
    "                          batch_size=batchSize,\n",
    "                          pin_memory=True)"
   ]
  },
  {
   "cell_type": "code",
   "execution_count": 7,
   "id": "e0c28b9b",
   "metadata": {},
   "outputs": [
    {
     "data": {
      "text/plain": [
       "torch.Size([100, 50])"
      ]
     },
     "execution_count": 7,
     "metadata": {},
     "output_type": "execute_result"
    }
   ],
   "source": [
    "train_dataset[4][0].size()"
   ]
  },
  {
   "cell_type": "code",
   "execution_count": 8,
   "id": "ea63bc8d",
   "metadata": {},
   "outputs": [],
   "source": [
    "#next(iter(train_loader))[0].size()"
   ]
  },
  {
   "cell_type": "code",
   "execution_count": 9,
   "id": "e058c093",
   "metadata": {},
   "outputs": [],
   "source": [
    "%run text_model_simpleLSTM.ipynb\n",
    "%run text_model_FNN.ipynb\n",
    "%run models_paper.ipynb"
   ]
  },
  {
   "cell_type": "markdown",
   "id": "9784ce42",
   "metadata": {},
   "source": [
    "## Train simpleLSTM for emotion"
   ]
  },
  {
   "cell_type": "code",
   "execution_count": 10,
   "id": "192a6f22",
   "metadata": {
    "scrolled": true
   },
   "outputs": [
    {
     "data": {
      "text/plain": [
       "simpleLSTM(\n",
       "  (lstm): LSTM(50, 32, batch_first=True)\n",
       "  (classifier): Linear(in_features=32, out_features=7, bias=True)\n",
       ")"
      ]
     },
     "execution_count": 10,
     "metadata": {},
     "output_type": "execute_result"
    }
   ],
   "source": [
    "# simpleLSTM or FNN or LSTMModel\n",
    "model = simpleLSTM(embedding_dim = embedding_dim, output_dim = 7)\n",
    "\n",
    "# droup_rate = 0.25\n",
    "# D_m = embedding_dim #600\n",
    "# D_e = 32 #100\n",
    "# D_h = 32 #100\n",
    "\n",
    "# model = LSTMModel(D_m, D_e, D_h,\n",
    "#                   n_classes=7,\n",
    "#                   dropout=droup_rate,\n",
    "#                   attention=False)\n",
    "\n",
    "\n",
    "model = model.to(device)\n",
    "model"
   ]
  },
  {
   "cell_type": "code",
   "execution_count": 11,
   "id": "875aa9c3",
   "metadata": {},
   "outputs": [],
   "source": [
    "# labels = data['Emotion']\n",
    "classes = ['neutral', 'surprise', 'fear', 'sadness', 'joy', 'disgust', 'anger']\n",
    "\n",
    "# class_weights = compute_class_weight('balanced', classes = classes, y = np.array(labels))\n",
    "# class_weights = torch.tensor(class_weights, dtype=torch.float)\n",
    "\n",
    "# class_weights = class_weights.to(device)\n",
    "# print(class_weights)"
   ]
  },
  {
   "cell_type": "markdown",
   "id": "61f44dbd",
   "metadata": {},
   "source": [
    "# Checking output before training"
   ]
  },
  {
   "cell_type": "code",
   "execution_count": 12,
   "id": "da523f23",
   "metadata": {},
   "outputs": [],
   "source": [
    "val_loader = DataLoader(val_dataset,\n",
    "                          shuffle=False,\n",
    "                          num_workers=0,\n",
    "                          batch_size=len(val_dataset),\n",
    "                          pin_memory=True)"
   ]
  },
  {
   "cell_type": "code",
   "execution_count": 13,
   "id": "c83aaace",
   "metadata": {},
   "outputs": [
    {
     "name": "stdout",
     "output_type": "stream",
     "text": [
      "torch.Size([1109, 100, 50])\n",
      "tensor([3, 1, 0,  ..., 3, 3, 3])\n",
      "tensor([[ 0.0100, -0.0703,  0.2389,  ...,  0.0504,  0.0104, -0.1874],\n",
      "        [ 0.0100, -0.0703,  0.2389,  ...,  0.0504,  0.0104, -0.1874],\n",
      "        [ 0.0100, -0.0703,  0.2389,  ...,  0.0504,  0.0104, -0.1874],\n",
      "        ...,\n",
      "        [ 0.0100, -0.0703,  0.2389,  ...,  0.0504,  0.0104, -0.1874],\n",
      "        [ 0.0100, -0.0703,  0.2389,  ...,  0.0504,  0.0104, -0.1874],\n",
      "        [ 0.0100, -0.0703,  0.2389,  ...,  0.0504,  0.0104, -0.1874]],\n",
      "       device='cuda:0')\n",
      "[3. 3. 3. ... 3. 3. 3.]\n",
      "[3. 1. 0. ... 3. 3. 3.]\n",
      "              precision    recall  f1-score   support\n",
      "\n",
      "     neutral       0.00      0.00      0.00       470\n",
      "    surprise       0.00      0.00      0.00       150\n",
      "        fear       0.00      0.00      0.00        40\n",
      "     sadness       0.10      1.00      0.18       111\n",
      "         joy       0.00      0.00      0.00       163\n",
      "     disgust       0.00      0.00      0.00        22\n",
      "       anger       0.00      0.00      0.00       153\n",
      "\n",
      "    accuracy                           0.10      1109\n",
      "   macro avg       0.01      0.14      0.03      1109\n",
      "weighted avg       0.01      0.10      0.02      1109\n",
      "\n"
     ]
    },
    {
     "name": "stderr",
     "output_type": "stream",
     "text": [
      "D:\\ProgramData\\Anaconda3\\envs\\mlenv\\lib\\site-packages\\sklearn\\metrics\\_classification.py:1245: UndefinedMetricWarning: Precision and F-score are ill-defined and being set to 0.0 in labels with no predicted samples. Use `zero_division` parameter to control this behavior.\n",
      "  _warn_prf(average, modifier, msg_start, len(result))\n",
      "D:\\ProgramData\\Anaconda3\\envs\\mlenv\\lib\\site-packages\\sklearn\\metrics\\_classification.py:1245: UndefinedMetricWarning: Precision and F-score are ill-defined and being set to 0.0 in labels with no predicted samples. Use `zero_division` parameter to control this behavior.\n",
      "  _warn_prf(average, modifier, msg_start, len(result))\n",
      "D:\\ProgramData\\Anaconda3\\envs\\mlenv\\lib\\site-packages\\sklearn\\metrics\\_classification.py:1245: UndefinedMetricWarning: Precision and F-score are ill-defined and being set to 0.0 in labels with no predicted samples. Use `zero_division` parameter to control this behavior.\n",
      "  _warn_prf(average, modifier, msg_start, len(result))\n"
     ]
    }
   ],
   "source": [
    "with torch.no_grad():\n",
    "    \n",
    "    model.eval()\n",
    "    \n",
    "    X, y = next(iter(val_loader))\n",
    "    print(X.shape)\n",
    "    print(y)\n",
    "    X = X.to(device)\n",
    "    \n",
    "    out = model(X)\n",
    "    print(out)\n",
    "    predictions = F.softmax(out, dim=1).cpu()\n",
    "    #print(predictions)\n",
    "    \n",
    "    predictions = torch.argmax(predictions, dim = 1).numpy().astype(dtype=np.float)\n",
    "    y = y.numpy().astype(dtype=np.float)\n",
    "    print(predictions)\n",
    "    print(y)\n",
    "    print(metrics.classification_report(y, predictions, target_names=classes))"
   ]
  },
  {
   "cell_type": "code",
   "execution_count": 14,
   "id": "30c37e91",
   "metadata": {},
   "outputs": [
    {
     "data": {
      "text/html": [
       "<div>\n",
       "<style scoped>\n",
       "    .dataframe tbody tr th:only-of-type {\n",
       "        vertical-align: middle;\n",
       "    }\n",
       "\n",
       "    .dataframe tbody tr th {\n",
       "        vertical-align: top;\n",
       "    }\n",
       "\n",
       "    .dataframe thead th {\n",
       "        text-align: right;\n",
       "    }\n",
       "</style>\n",
       "<table border=\"1\" class=\"dataframe\">\n",
       "  <thead>\n",
       "    <tr style=\"text-align: right;\">\n",
       "      <th></th>\n",
       "      <th>neutral</th>\n",
       "      <th>surprise</th>\n",
       "      <th>fear</th>\n",
       "      <th>sadness</th>\n",
       "      <th>joy</th>\n",
       "      <th>disgust</th>\n",
       "      <th>anger</th>\n",
       "    </tr>\n",
       "  </thead>\n",
       "  <tbody>\n",
       "    <tr>\n",
       "      <th>neutral</th>\n",
       "      <td>0</td>\n",
       "      <td>0</td>\n",
       "      <td>0</td>\n",
       "      <td>470</td>\n",
       "      <td>0</td>\n",
       "      <td>0</td>\n",
       "      <td>0</td>\n",
       "    </tr>\n",
       "    <tr>\n",
       "      <th>surprise</th>\n",
       "      <td>0</td>\n",
       "      <td>0</td>\n",
       "      <td>0</td>\n",
       "      <td>150</td>\n",
       "      <td>0</td>\n",
       "      <td>0</td>\n",
       "      <td>0</td>\n",
       "    </tr>\n",
       "    <tr>\n",
       "      <th>fear</th>\n",
       "      <td>0</td>\n",
       "      <td>0</td>\n",
       "      <td>0</td>\n",
       "      <td>40</td>\n",
       "      <td>0</td>\n",
       "      <td>0</td>\n",
       "      <td>0</td>\n",
       "    </tr>\n",
       "    <tr>\n",
       "      <th>sadness</th>\n",
       "      <td>0</td>\n",
       "      <td>0</td>\n",
       "      <td>0</td>\n",
       "      <td>111</td>\n",
       "      <td>0</td>\n",
       "      <td>0</td>\n",
       "      <td>0</td>\n",
       "    </tr>\n",
       "    <tr>\n",
       "      <th>joy</th>\n",
       "      <td>0</td>\n",
       "      <td>0</td>\n",
       "      <td>0</td>\n",
       "      <td>163</td>\n",
       "      <td>0</td>\n",
       "      <td>0</td>\n",
       "      <td>0</td>\n",
       "    </tr>\n",
       "    <tr>\n",
       "      <th>disgust</th>\n",
       "      <td>0</td>\n",
       "      <td>0</td>\n",
       "      <td>0</td>\n",
       "      <td>22</td>\n",
       "      <td>0</td>\n",
       "      <td>0</td>\n",
       "      <td>0</td>\n",
       "    </tr>\n",
       "    <tr>\n",
       "      <th>anger</th>\n",
       "      <td>0</td>\n",
       "      <td>0</td>\n",
       "      <td>0</td>\n",
       "      <td>153</td>\n",
       "      <td>0</td>\n",
       "      <td>0</td>\n",
       "      <td>0</td>\n",
       "    </tr>\n",
       "  </tbody>\n",
       "</table>\n",
       "</div>"
      ],
      "text/plain": [
       "          neutral  surprise  fear  sadness  joy  disgust  anger\n",
       "neutral         0         0     0      470    0        0      0\n",
       "surprise        0         0     0      150    0        0      0\n",
       "fear            0         0     0       40    0        0      0\n",
       "sadness         0         0     0      111    0        0      0\n",
       "joy             0         0     0      163    0        0      0\n",
       "disgust         0         0     0       22    0        0      0\n",
       "anger           0         0     0      153    0        0      0"
      ]
     },
     "execution_count": 14,
     "metadata": {},
     "output_type": "execute_result"
    }
   ],
   "source": [
    "pd.DataFrame(metrics.confusion_matrix(y, predictions), index = classes, columns = classes)"
   ]
  },
  {
   "cell_type": "code",
   "execution_count": 15,
   "id": "febb1fe5",
   "metadata": {},
   "outputs": [],
   "source": [
    "def trainLoop(model, train_loader, val_loader, shouldSave=False):\n",
    "    \n",
    "    model.train()\n",
    "    \n",
    "    EPOCHS = 10\n",
    "    lr = 0.0001                                        # as in paper\n",
    "    weight_decay = 0.00001                             # as in paper\n",
    "    \n",
    "    #criterion = MaskedNLLLoss()                        # as in paper\n",
    "    optimizer = optim.Adam(model.parameters(),         # as in paper\n",
    "                           lr=lr,\n",
    "                           weight_decay=weight_decay)\n",
    "    \n",
    "    \n",
    "    criterion = nn.CrossEntropyLoss()\n",
    "#     optimizer = optim.Adam(model.parameters(), lr)\n",
    "#     criterion = nn.CrossEntropyLoss(weight=class_weights)\n",
    "#     optimizer = optim.Adadelta(model.parameters())\n",
    "    \n",
    "\n",
    "    i = 0\n",
    "    counterTrain = []\n",
    "    lossHistoryTrain = []\n",
    "\n",
    "    j = 0\n",
    "    counterVal = []\n",
    "    lossHistoryVal = []\n",
    "    epochsSinceLastImprovement = 0\n",
    "    bestLoss = None\n",
    "    bestModel = model.state_dict()\n",
    "\n",
    "    for epoch in tqdm(range(0, EPOCHS)):\n",
    "        \n",
    "        model.train()\n",
    "        \n",
    "        trainLoss = 0\n",
    "\n",
    "        for data in train_loader:\n",
    "            \n",
    "            X, y = data\n",
    "            X = X.to(device)\n",
    "            y = y.to(device)\n",
    "\n",
    "            optimizer.zero_grad()\n",
    "            #print(X.shape)\n",
    "            out = model(X)\n",
    "            \n",
    "            #print(out[0])\n",
    "            #print(y)\n",
    "            loss = criterion(out, y)\n",
    "            loss.backward()\n",
    "            \n",
    "            trainLoss += loss.item()\n",
    "            \n",
    "            optimizer.step()\n",
    "\n",
    "        trainLoss = trainLoss / len(train_loader)\n",
    "            \n",
    "        counterTrain.append(epoch)\n",
    "        lossHistoryTrain.append(trainLoss)\n",
    "        \n",
    "        model.eval()\n",
    "        with torch.no_grad():\n",
    "\n",
    "            validationLoss = 0\n",
    "\n",
    "            for data in val_loader:\n",
    "\n",
    "                X, y = data\n",
    "                X = X.to(device)\n",
    "                y = y.to(device)\n",
    "                \n",
    "                out = model(X)\n",
    "\n",
    "                loss = criterion(out, y)\n",
    "\n",
    "                validationLoss += loss\n",
    "\n",
    "            \n",
    "            validationLoss = validationLoss / len(val_loader)\n",
    "            \n",
    "            counterVal.append(epoch)\n",
    "            lossHistoryVal.append(validationLoss)\n",
    "\n",
    "\n",
    "    return model, counterTrain, lossHistoryTrain, counterVal, lossHistoryVal"
   ]
  },
  {
   "cell_type": "code",
   "execution_count": 16,
   "id": "22376522",
   "metadata": {},
   "outputs": [
    {
     "name": "stderr",
     "output_type": "stream",
     "text": [
      "100%|██████████████████████████████████████████████████████████████████████████████████| 10/10 [00:32<00:00,  3.23s/it]\n"
     ]
    }
   ],
   "source": [
    "model, counterTrain, lossHistoryTrain, counterVal, lossHistoryVal = trainLoop(model, train_loader, val_loader)"
   ]
  },
  {
   "cell_type": "code",
   "execution_count": 17,
   "id": "c97bcec5",
   "metadata": {},
   "outputs": [],
   "source": [
    "def plotLoss(counter_train, loss_history_train, counter_test, loss_history_test, shouldSave=False, shouldDisplay=True):\n",
    "    \n",
    "    plt.plot(counter_train, loss_history_train, label=\"Train\")\n",
    "\n",
    "    plt.plot(counter_test, loss_history_test, label=\"Val\")\n",
    "    \n",
    "    plt.legend(['Train', 'Val'])\n",
    "    \n",
    "    plt.xlabel(\"Epochs\")\n",
    "    plt.ylabel(\"Loss\")\n",
    "\n",
    "#     fig, ax = plt.subplots(2, figsize=(12.83, 9.19))\n",
    "#     #fig.suptitle(f'BestModelAtEpoch: {self.earlyStoppedAtEpoch} lr: {self.lr}, weightDecay: {self.weightDecay}, momentum: {self.momentum}, batchSize:{self.batchSize}, optim: {self.optim}, lastLayerActivation:{self.lastLayerActivation}')\n",
    "\n",
    "#     ax[0].plot(counter_train, loss_history_train, label=\"Train\")\n",
    "#     ax[0].grid(True)\n",
    "\n",
    "#     ax[1].plot(counter_test, loss_history_test, label=\"Test\")\n",
    "#     ax[1].grid(True)\n",
    "\n",
    "#     if shouldSave:\n",
    "#         today = datetime.now()\n",
    "#         path = \"./Figures/\" + today.strftime('%d_%m_%Y_%H_%M')\n",
    "#         fig.tight_layout()\n",
    "#         fig.subplots_adjust(top=.95)\n",
    "#         plt.savefig(path, dpi=300)\n",
    "\n",
    "    if shouldDisplay:\n",
    "        plt.show()"
   ]
  },
  {
   "cell_type": "code",
   "execution_count": 18,
   "id": "965b204c",
   "metadata": {},
   "outputs": [
    {
     "data": {
      "image/png": "[encoded data removed]",
      "text/plain": [
       "<Figure size 432x288 with 1 Axes>"
      ]
     },
     "metadata": {
      "needs_background": "light"
     },
     "output_type": "display_data"
    }
   ],
   "source": [
    "plotLoss(counterTrain, lossHistoryTrain, counterVal, lossHistoryVal)"
   ]
  },
  {
   "cell_type": "markdown",
   "id": "3bd8a877",
   "metadata": {},
   "source": [
    "# Evaluation"
   ]
  },
  {
   "cell_type": "code",
   "execution_count": 19,
   "id": "3fad6786",
   "metadata": {},
   "outputs": [],
   "source": [
    "val_loader = DataLoader(val_dataset,\n",
    "                          shuffle=False,\n",
    "                          num_workers=0,\n",
    "                          batch_size=len(val_dataset),\n",
    "                          pin_memory=True)"
   ]
  },
  {
   "cell_type": "code",
   "execution_count": 20,
   "id": "f35158fd",
   "metadata": {
    "scrolled": true
   },
   "outputs": [
    {
     "name": "stdout",
     "output_type": "stream",
     "text": [
      "torch.Size([1109, 100, 50])\n",
      "tensor([3, 1, 0,  ..., 3, 3, 3])\n",
      "tensor([[ 1.6610,  0.2951, -1.2214,  ...,  0.6555, -1.1905,  0.2009],\n",
      "        [ 1.6610,  0.2951, -1.2214,  ...,  0.6555, -1.1905,  0.2009],\n",
      "        [ 1.6610,  0.2951, -1.2214,  ...,  0.6555, -1.1905,  0.2009],\n",
      "        ...,\n",
      "        [ 1.6610,  0.2951, -1.2214,  ...,  0.6555, -1.1905,  0.2009],\n",
      "        [ 1.6610,  0.2951, -1.2214,  ...,  0.6555, -1.1905,  0.2009],\n",
      "        [ 1.6610,  0.2951, -1.2214,  ...,  0.6555, -1.1905,  0.2009]],\n",
      "       device='cuda:0')\n",
      "[0. 0. 0. ... 0. 0. 0.]\n",
      "[3. 1. 0. ... 3. 3. 3.]\n",
      "              precision    recall  f1-score   support\n",
      "\n",
      "     neutral       0.42      1.00      0.60       470\n",
      "    surprise       0.00      0.00      0.00       150\n",
      "        fear       0.00      0.00      0.00        40\n",
      "     sadness       0.00      0.00      0.00       111\n",
      "         joy       0.00      0.00      0.00       163\n",
      "     disgust       0.00      0.00      0.00        22\n",
      "       anger       0.00      0.00      0.00       153\n",
      "\n",
      "    accuracy                           0.42      1109\n",
      "   macro avg       0.06      0.14      0.09      1109\n",
      "weighted avg       0.18      0.42      0.25      1109\n",
      "\n"
     ]
    },
    {
     "name": "stderr",
     "output_type": "stream",
     "text": [
      "D:\\ProgramData\\Anaconda3\\envs\\mlenv\\lib\\site-packages\\sklearn\\metrics\\_classification.py:1245: UndefinedMetricWarning: Precision and F-score are ill-defined and being set to 0.0 in labels with no predicted samples. Use `zero_division` parameter to control this behavior.\n",
      "  _warn_prf(average, modifier, msg_start, len(result))\n",
      "D:\\ProgramData\\Anaconda3\\envs\\mlenv\\lib\\site-packages\\sklearn\\metrics\\_classification.py:1245: UndefinedMetricWarning: Precision and F-score are ill-defined and being set to 0.0 in labels with no predicted samples. Use `zero_division` parameter to control this behavior.\n",
      "  _warn_prf(average, modifier, msg_start, len(result))\n",
      "D:\\ProgramData\\Anaconda3\\envs\\mlenv\\lib\\site-packages\\sklearn\\metrics\\_classification.py:1245: UndefinedMetricWarning: Precision and F-score are ill-defined and being set to 0.0 in labels with no predicted samples. Use `zero_division` parameter to control this behavior.\n",
      "  _warn_prf(average, modifier, msg_start, len(result))\n"
     ]
    }
   ],
   "source": [
    "with torch.no_grad():\n",
    "    \n",
    "    model.eval()\n",
    "    \n",
    "    X, y = next(iter(val_loader))\n",
    "    print(X.shape)\n",
    "    print(y)\n",
    "    X = X.to(device)\n",
    "    \n",
    "    out = model(X)\n",
    "    print(out)\n",
    "    predictions = F.softmax(out, dim=1).cpu()\n",
    "    #print(predictions)\n",
    "    \n",
    "    predictions = torch.argmax(predictions, dim = 1).numpy().astype(dtype=np.float)\n",
    "    y = y.numpy().astype(dtype=np.float)\n",
    "    print(predictions)\n",
    "    print(y)\n",
    "    print(metrics.classification_report(y, predictions, target_names=classes))"
   ]
  },
  {
   "cell_type": "code",
   "execution_count": 21,
   "id": "5d6c69c5",
   "metadata": {},
   "outputs": [
    {
     "data": {
      "text/html": [
       "<div>\n",
       "<style scoped>\n",
       "    .dataframe tbody tr th:only-of-type {\n",
       "        vertical-align: middle;\n",
       "    }\n",
       "\n",
       "    .dataframe tbody tr th {\n",
       "        vertical-align: top;\n",
       "    }\n",
       "\n",
       "    .dataframe thead th {\n",
       "        text-align: right;\n",
       "    }\n",
       "</style>\n",
       "<table border=\"1\" class=\"dataframe\">\n",
       "  <thead>\n",
       "    <tr style=\"text-align: right;\">\n",
       "      <th></th>\n",
       "      <th>neutral</th>\n",
       "      <th>surprise</th>\n",
       "      <th>fear</th>\n",
       "      <th>sadness</th>\n",
       "      <th>joy</th>\n",
       "      <th>disgust</th>\n",
       "      <th>anger</th>\n",
       "    </tr>\n",
       "  </thead>\n",
       "  <tbody>\n",
       "    <tr>\n",
       "      <th>neutral</th>\n",
       "      <td>470</td>\n",
       "      <td>0</td>\n",
       "      <td>0</td>\n",
       "      <td>0</td>\n",
       "      <td>0</td>\n",
       "      <td>0</td>\n",
       "      <td>0</td>\n",
       "    </tr>\n",
       "    <tr>\n",
       "      <th>surprise</th>\n",
       "      <td>150</td>\n",
       "      <td>0</td>\n",
       "      <td>0</td>\n",
       "      <td>0</td>\n",
       "      <td>0</td>\n",
       "      <td>0</td>\n",
       "      <td>0</td>\n",
       "    </tr>\n",
       "    <tr>\n",
       "      <th>fear</th>\n",
       "      <td>40</td>\n",
       "      <td>0</td>\n",
       "      <td>0</td>\n",
       "      <td>0</td>\n",
       "      <td>0</td>\n",
       "      <td>0</td>\n",
       "      <td>0</td>\n",
       "    </tr>\n",
       "    <tr>\n",
       "      <th>sadness</th>\n",
       "      <td>111</td>\n",
       "      <td>0</td>\n",
       "      <td>0</td>\n",
       "      <td>0</td>\n",
       "      <td>0</td>\n",
       "      <td>0</td>\n",
       "      <td>0</td>\n",
       "    </tr>\n",
       "    <tr>\n",
       "      <th>joy</th>\n",
       "      <td>163</td>\n",
       "      <td>0</td>\n",
       "      <td>0</td>\n",
       "      <td>0</td>\n",
       "      <td>0</td>\n",
       "      <td>0</td>\n",
       "      <td>0</td>\n",
       "    </tr>\n",
       "    <tr>\n",
       "      <th>disgust</th>\n",
       "      <td>22</td>\n",
       "      <td>0</td>\n",
       "      <td>0</td>\n",
       "      <td>0</td>\n",
       "      <td>0</td>\n",
       "      <td>0</td>\n",
       "      <td>0</td>\n",
       "    </tr>\n",
       "    <tr>\n",
       "      <th>anger</th>\n",
       "      <td>153</td>\n",
       "      <td>0</td>\n",
       "      <td>0</td>\n",
       "      <td>0</td>\n",
       "      <td>0</td>\n",
       "      <td>0</td>\n",
       "      <td>0</td>\n",
       "    </tr>\n",
       "  </tbody>\n",
       "</table>\n",
       "</div>"
      ],
      "text/plain": [
       "          neutral  surprise  fear  sadness  joy  disgust  anger\n",
       "neutral       470         0     0        0    0        0      0\n",
       "surprise      150         0     0        0    0        0      0\n",
       "fear           40         0     0        0    0        0      0\n",
       "sadness       111         0     0        0    0        0      0\n",
       "joy           163         0     0        0    0        0      0\n",
       "disgust        22         0     0        0    0        0      0\n",
       "anger         153         0     0        0    0        0      0"
      ]
     },
     "execution_count": 21,
     "metadata": {},
     "output_type": "execute_result"
    }
   ],
   "source": [
    "pd.DataFrame(metrics.confusion_matrix(y, predictions), index = classes, columns = classes)"
   ]
  },
  {
   "cell_type": "code",
   "execution_count": null,
   "id": "5d9d1e76",
   "metadata": {},
   "outputs": [],
   "source": []
  },
  {
   "cell_type": "code",
   "execution_count": null,
   "id": "a3cbd111",
   "metadata": {},
   "outputs": [],
   "source": []
  },
  {
   "cell_type": "code",
   "execution_count": null,
   "id": "f8172134",
   "metadata": {},
   "outputs": [],
   "source": []
  },
  {
   "cell_type": "code",
   "execution_count": null,
   "id": "16257d3b",
   "metadata": {},
   "outputs": [],
   "source": []
  },
  {
   "cell_type": "code",
   "execution_count": null,
   "id": "d4ad12c6",
   "metadata": {},
   "outputs": [],
   "source": []
  },
  {
   "cell_type": "code",
   "execution_count": null,
   "id": "4341fd5f",
   "metadata": {},
   "outputs": [],
   "source": []
  },
  {
   "cell_type": "code",
   "execution_count": null,
   "id": "5b99a8e5",
   "metadata": {},
   "outputs": [],
   "source": []
  }
 ],
 "metadata": {
  "kernelspec": {
   "display_name": "Python 3",
   "language": "python",
   "name": "python3"
  },
  "language_info": {
   "codemirror_mode": {
    "name": "ipython",
    "version": 3
   },
   "file_extension": ".py",
   "mimetype": "text/x-python",
   "name": "python",
   "nbconvert_exporter": "python",
   "pygments_lexer": "ipython3",
   "version": "3.8.5"
  }
 },
 "nbformat": 4,
 "nbformat_minor": 5
}
