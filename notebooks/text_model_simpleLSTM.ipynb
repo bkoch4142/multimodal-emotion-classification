{
 "cells": [
  {
   "cell_type": "code",
   "execution_count": 4,
   "id": "5a40c993",
   "metadata": {},
   "outputs": [],
   "source": [
    "import torch\n",
    "import torch.nn as nn\n",
    "import torch.nn.functional as F\n",
    "import torchtext\n",
    "\n",
    "from torch.autograd import Variable \n",
    "\n",
    "from torch.nn.utils.rnn import pad_sequence\n",
    "\n",
    "import numpy as np"
   ]
  },
  {
   "cell_type": "code",
   "execution_count": 5,
   "id": "a5cfa44f",
   "metadata": {},
   "outputs": [
    {
     "name": "stdout",
     "output_type": "stream",
     "text": [
      "NVIDIA GeForce RTX 2070 SUPER\n"
     ]
    }
   ],
   "source": [
    "device = torch.device(\"cuda\" if torch.cuda.is_available() else \"cpu\")\n",
    "if device.type == 'cuda':\n",
    "            print(torch.cuda.get_device_name(0))"
   ]
  },
  {
   "cell_type": "code",
   "execution_count": 6,
   "id": "375f4670",
   "metadata": {},
   "outputs": [],
   "source": [
    "class simpleLSTM(nn.Module):\n",
    "    def __init__(self, embedding_dim = 50, output_dim = 7):\n",
    "        super(simpleLSTM, self).__init__()\n",
    "        \n",
    "        self.output_dim = output_dim\n",
    "        self.embedding_dim = embedding_dim # embedding size = 50/100/200/300\n",
    "        self.hidden_size = 32\n",
    "        self.num_layers = 1\n",
    "        \n",
    "        #self.dropout = nn.Dropout(0.2)\n",
    "        self.lstm = nn.LSTM(self.embedding_dim, self.hidden_size, num_layers = self.num_layers, batch_first=True)\n",
    "        self.classifier = nn.Linear(self.hidden_size, self.output_dim)\n",
    "        self.relu = nn.ReLU()\n",
    "        \n",
    "    def forward(self, input):\n",
    "        \n",
    "        batch_size = input.size(0)\n",
    "        \n",
    "        #print(input)\n",
    "        \n",
    "        h_0 = Variable(torch.rand(self.num_layers, batch_size, self.hidden_size)) #hidden state\n",
    "        c_0 = Variable(torch.rand(self.num_layers, batch_size, self.hidden_size)) #internal state\n",
    "        \n",
    "        h_0 = h_0.to(device)\n",
    "        c_0 = c_0.to(device)\n",
    "        \n",
    "        #print(\"Init hidden: \", (h_0, c_0))\n",
    "        \n",
    "        lstm_out, (hn, cn) = self.lstm(input, (h_0, c_0))\n",
    "        \n",
    "        #print(\"Output shape: \", lstm_out.shape)\n",
    "        #print(\"Hidden: \", (hn, cn))\n",
    "        \n",
    "        #hn.view(-1, self.hidden_size)\n",
    "        \n",
    "        #print(f'Last hidden shape {hn.view(-1, self.hidden_size).shape}')\n",
    "        \n",
    "        classifier_out = self.classifier(hn[-1]) # last hidden state\n",
    "        #classifier_out = self.classifier(hn[-1])          # or like this\n",
    "        return classifier_out\n"
   ]
  },
  {
   "cell_type": "code",
   "execution_count": null,
   "id": "40102bb6",
   "metadata": {},
   "outputs": [],
   "source": []
  }
 ],
 "metadata": {
  "kernelspec": {
   "display_name": "Python 3",
   "language": "python",
   "name": "python3"
  },
  "language_info": {
   "codemirror_mode": {
    "name": "ipython",
    "version": 3
   },
   "file_extension": ".py",
   "mimetype": "text/x-python",
   "name": "python",
   "nbconvert_exporter": "python",
   "pygments_lexer": "ipython3",
   "version": "3.8.5"
  }
 },
 "nbformat": 4,
 "nbformat_minor": 5
}
