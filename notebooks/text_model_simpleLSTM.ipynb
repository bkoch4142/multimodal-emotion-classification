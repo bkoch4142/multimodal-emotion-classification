{
 "cells": [
  {
   "cell_type": "code",
   "execution_count": 283,
   "id": "5a40c993",
   "metadata": {},
   "outputs": [],
   "source": [
    "import torch\n",
    "import torch.nn as nn\n",
    "import torch.nn.functional as F\n",
    "import torchtext\n",
    "\n",
    "from torch.nn.utils.rnn import pad_sequence\n",
    "\n",
    "import numpy as np"
   ]
  },
  {
   "cell_type": "code",
   "execution_count": 284,
   "id": "375f4670",
   "metadata": {},
   "outputs": [],
   "source": [
    "class simpleLSTM(nn.Module):\n",
    "    def __init__(self, embedding_dim = 50, output_dim = 7):\n",
    "        super(simpleLSTM, self).__init__()\n",
    "        \n",
    "        self.output_dim = output_dim\n",
    "        self.embedding_dim = embedding_dim # embedding size = 50/100/200/300\n",
    "        self.hidden_size = 32\n",
    "        \n",
    "        #self.dropout = nn.Dropout(0.2)\n",
    "        self.lstm = nn.LSTM(self.embedding_dim, self.hidden_size, batch_first=True)\n",
    "        self.classifier = nn.Linear(self.hidden_size, self.output_dim)\n",
    "        \n",
    "    def forward(self, input):\n",
    "        \n",
    "        lstm_out, (hn, cn) = self.lstm(input)\n",
    "        \n",
    "        classifier_out = self.classifier(lstm_out[:,-1,:]) # last hidden state\n",
    "        #classifier_out = self.classifier(hn[-1])          # or like this\n",
    "        return classifier_out"
   ]
  },
  {
   "cell_type": "code",
   "execution_count": null,
   "id": "40102bb6",
   "metadata": {},
   "outputs": [],
   "source": []
  }
 ],
 "metadata": {
  "kernelspec": {
   "display_name": "Python 3",
   "language": "python",
   "name": "python3"
  },
  "language_info": {
   "codemirror_mode": {
    "name": "ipython",
    "version": 3
   },
   "file_extension": ".py",
   "mimetype": "text/x-python",
   "name": "python",
   "nbconvert_exporter": "python",
   "pygments_lexer": "ipython3",
   "version": "3.8.5"
  }
 },
 "nbformat": 4,
 "nbformat_minor": 5
}
