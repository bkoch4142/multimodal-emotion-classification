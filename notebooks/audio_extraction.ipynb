{
 "cells": [
  {
   "cell_type": "markdown",
   "source": [
    "# Audio extraction in wav format from mp4 files"
   ],
   "metadata": {}
  },
  {
   "cell_type": "code",
   "execution_count": 75,
   "source": [
    "!pip install pydub\r\n",
    "!pip install ffmpeg"
   ],
   "outputs": [
    {
     "output_type": "stream",
     "name": "stdout",
     "text": [
      "Requirement already satisfied: moviepy in c:\\users\\bkoch\\miniconda3\\envs\\multimodal-emotion-detection\\lib\\site-packages (1.0.3)\n",
      "Requirement already satisfied: numpy; python_version >= \"2.7\" in c:\\users\\bkoch\\miniconda3\\envs\\multimodal-emotion-detection\\lib\\site-packages (from moviepy) (1.21.1)\n",
      "Requirement already satisfied: imageio<3.0,>=2.5; python_version >= \"3.4\" in c:\\users\\bkoch\\miniconda3\\envs\\multimodal-emotion-detection\\lib\\site-packages (from moviepy) (2.9.0)\n",
      "Requirement already satisfied: decorator<5.0,>=4.0.2 in c:\\users\\bkoch\\miniconda3\\envs\\multimodal-emotion-detection\\lib\\site-packages (from moviepy) (4.4.2)\n",
      "Requirement already satisfied: proglog<=1.0.0 in c:\\users\\bkoch\\miniconda3\\envs\\multimodal-emotion-detection\\lib\\site-packages (from moviepy) (0.1.9)\n",
      "Requirement already satisfied: tqdm<5.0,>=4.11.2 in c:\\users\\bkoch\\miniconda3\\envs\\multimodal-emotion-detection\\lib\\site-packages (from moviepy) (4.62.0)\n",
      "Requirement already satisfied: imageio-ffmpeg>=0.2.0; python_version >= \"3.4\" in c:\\users\\bkoch\\miniconda3\\envs\\multimodal-emotion-detection\\lib\\site-packages (from moviepy) (0.4.4)\n",
      "Requirement already satisfied: requests<3.0,>=2.8.1 in c:\\users\\bkoch\\miniconda3\\envs\\multimodal-emotion-detection\\lib\\site-packages (from moviepy) (2.26.0)\n",
      "Requirement already satisfied: pillow in c:\\users\\bkoch\\miniconda3\\envs\\multimodal-emotion-detection\\lib\\site-packages (from imageio<3.0,>=2.5; python_version >= \"3.4\"->moviepy) (8.3.1)\n",
      "Requirement already satisfied: colorama; platform_system == \"Windows\" in c:\\users\\bkoch\\miniconda3\\envs\\multimodal-emotion-detection\\lib\\site-packages (from tqdm<5.0,>=4.11.2->moviepy) (0.4.4)\n",
      "Requirement already satisfied: charset-normalizer~=2.0.0; python_version >= \"3\" in c:\\users\\bkoch\\miniconda3\\envs\\multimodal-emotion-detection\\lib\\site-packages (from requests<3.0,>=2.8.1->moviepy) (2.0.4)\n",
      "Requirement already satisfied: urllib3<1.27,>=1.21.1 in c:\\users\\bkoch\\miniconda3\\envs\\multimodal-emotion-detection\\lib\\site-packages (from requests<3.0,>=2.8.1->moviepy) (1.26.6)\n",
      "Requirement already satisfied: idna<4,>=2.5; python_version >= \"3\" in c:\\users\\bkoch\\miniconda3\\envs\\multimodal-emotion-detection\\lib\\site-packages (from requests<3.0,>=2.8.1->moviepy) (3.2)\n",
      "Requirement already satisfied: certifi>=2017.4.17 in c:\\users\\bkoch\\miniconda3\\envs\\multimodal-emotion-detection\\lib\\site-packages (from requests<3.0,>=2.8.1->moviepy) (2021.5.30)\n",
      "Requirement already satisfied: pydub in c:\\users\\bkoch\\miniconda3\\envs\\multimodal-emotion-detection\\lib\\site-packages (0.25.1)\n",
      "Collecting ffmpeg\n",
      "  Downloading ffmpeg-1.4.tar.gz (5.1 kB)\n",
      "Building wheels for collected packages: ffmpeg\n",
      "  Building wheel for ffmpeg (setup.py): started\n",
      "  Building wheel for ffmpeg (setup.py): finished with status 'done'\n",
      "  Created wheel for ffmpeg: filename=ffmpeg-1.4-py3-none-any.whl size=6083 sha256=c1a8361168cf0e3115b107d3db0a619c967b733f27ec7dd809bf2e4e35d80884\n",
      "  Stored in directory: c:\\users\\bkoch\\appdata\\local\\pip\\cache\\wheels\\30\\33\\46\\5ab7eca55b9490dddbf3441c68a29535996270ef1ce8b9b6d7\n",
      "Successfully built ffmpeg\n",
      "Installing collected packages: ffmpeg\n",
      "Successfully installed ffmpeg-1.4\n"
     ]
    }
   ],
   "metadata": {}
  },
  {
   "cell_type": "code",
   "execution_count": 142,
   "source": [
    "import os\r\n",
    "import pydub\r\n",
    "import librosa\r\n",
    "import soundfile as sf\r\n",
    "print(librosa.__version__)"
   ],
   "outputs": [
    {
     "output_type": "stream",
     "name": "stdout",
     "text": [
      "0.8.1\n"
     ]
    }
   ],
   "metadata": {}
  },
  {
   "cell_type": "code",
   "execution_count": 84,
   "source": [
    "DATA_FOLDER_PTH=os.path.join(os.getcwd(), os.pardir, 'data')\r\n",
    "\r\n",
    "# raw\r\n",
    "TRAIN_VIDEO_FOLDER_PTH=os.path.join(DATA_FOLDER_PTH, 'raw/MELD/train', 'train_splits')\r\n",
    "TRAIN_TEXT_FILE_PTH=os.path.join(DATA_FOLDER_PTH, 'raw/MELD/train', 'train_sent_emo.csv')\r\n",
    "\r\n",
    "DEV_VIDEO_FOLDER_PTH=os.path.join(DATA_FOLDER_PTH, 'raw/MELD/dev', 'dev_splits_complete')\r\n",
    "DEV_TEXT_FILE_PTH=os.path.join(DATA_FOLDER_PTH, 'raw/MELD/dev', 'dev_sent_emo.csv')\r\n",
    "\r\n",
    "TEST_VIDEO_FOLDER_PTH=os.path.join(DATA_FOLDER_PTH, 'raw/MELD/test', 'output_repeated_splits_test')\r\n",
    "TEST_TEXT_FILE_PTH=os.path.join(DATA_FOLDER_PTH, 'raw/MELD/test', 'test_sent_emo.csv')\r\n",
    "\r\n",
    "# processed\r\n",
    "TRAIN_AUDIO_FOLDER_PTH=os.path.join(DATA_FOLDER_PTH, 'processed/MELD/train_wavs')\r\n",
    "DEV_AUDIO_FOLDER_PTH=os.path.join(DATA_FOLDER_PTH, 'processed/MELD/dev_wavs')\r\n",
    "TEST_AUDIO_FOLDER_PTH=os.path.join(DATA_FOLDER_PTH, 'processed/MELD/test_wavs')\r\n"
   ],
   "outputs": [],
   "metadata": {}
  },
  {
   "cell_type": "markdown",
   "source": [
    "# Inspect Video files"
   ],
   "metadata": {}
  },
  {
   "cell_type": "code",
   "execution_count": 93,
   "source": [
    "os.listdir(TRAIN_VIDEO_FOLDER_PTH)[:10]"
   ],
   "outputs": [
    {
     "output_type": "execute_result",
     "data": {
      "text/plain": [
       "['dia0_utt0.mp4',\n",
       " 'dia0_utt1.mp4',\n",
       " 'dia0_utt10.mp4',\n",
       " 'dia0_utt11.mp4',\n",
       " 'dia0_utt12.mp4',\n",
       " 'dia0_utt13.mp4',\n",
       " 'dia0_utt2.mp4',\n",
       " 'dia0_utt3.mp4',\n",
       " 'dia0_utt4.mp4',\n",
       " 'dia0_utt5.mp4']"
      ]
     },
     "metadata": {},
     "execution_count": 93
    }
   ],
   "metadata": {}
  },
  {
   "cell_type": "markdown",
   "source": [
    "# Testing Audio Extraction"
   ],
   "metadata": {}
  },
  {
   "cell_type": "code",
   "execution_count": 119,
   "source": [
    "video_file_name=os.listdir(TRAIN_VIDEO_FOLDER_PTH)[0]\r\n",
    "video_file_name_without_extension=video_file_name.split('.')[0]\r\n",
    "video_file_pth=os.path.join(TRAIN_VIDEO_FOLDER_PTH, video_file_name)"
   ],
   "outputs": [],
   "metadata": {}
  },
  {
   "cell_type": "code",
   "execution_count": 126,
   "source": [
    "os.system('ffmpeg -i {} -f wav {} '.format(video_file_pth, os.path.join(OUTPUT_FOLDER_PTH, video_file_name_without_extension+'.wav')))"
   ],
   "outputs": [
    {
     "output_type": "execute_result",
     "data": {
      "text/plain": [
       "0"
      ]
     },
     "metadata": {},
     "execution_count": 126
    }
   ],
   "metadata": {}
  },
  {
   "cell_type": "markdown",
   "source": [
    "## View output format"
   ],
   "metadata": {}
  },
  {
   "cell_type": "code",
   "execution_count": 133,
   "source": [
    "import pprint\r\n",
    "\r\n",
    "info=pydub.utils.mediainfo(os.path.join(OUTPUT_FOLDER_PTH, video_file_name_without_extension+'.wav'))\r\n",
    "data={\r\n",
    "    'audio_name':audio_pth.split('.')[-2],\r\n",
    "    'sample_rate':int(info['sample_rate']),\r\n",
    "    'channels':int(info['channels']),\r\n",
    "    'bits_pre_sample':int(info['bits_per_sample']),\r\n",
    "    'duration': float(info['duration']),\r\n",
    "    'codec_long_name':str(info['codec_long_name']),\r\n",
    "    'size':int(info['size'])\r\n",
    "}\r\n",
    "\r\n",
    "pprint.pprint(data)"
   ],
   "outputs": [
    {
     "output_type": "stream",
     "name": "stdout",
     "text": [
      "{'audio_name': '\\\\output\\\\dia0_utt0',\n",
      " 'bits_pre_sample': 16,\n",
      " 'channels': 2,\n",
      " 'codec_long_name': 'PCM signed 16-bit little-endian',\n",
      " 'duration': 5.674671,\n",
      " 'sample_rate': 44100,\n",
      " 'size': 1001090}\n"
     ]
    }
   ],
   "metadata": {}
  },
  {
   "cell_type": "code",
   "execution_count": 137,
   "source": [
    "pth=os.path.join(OUTPUT_FOLDER_PTH, video_file_name_without_extension+'.wav')\r\n",
    "y,sr=librosa.load(pth, mono=False, sr=None)\r\n",
    "print(pth)\r\n",
    "print(y.shape)\r\n",
    "print(sr)"
   ],
   "outputs": [
    {
     "output_type": "stream",
     "name": "stdout",
     "text": [
      "e:\\machine_learning\\projects\\multimodal-emotion-classification\\notebooks\\..\\output\\dia0_utt0.wav\n",
      "(2, 250253)\n",
      "44100\n"
     ]
    }
   ],
   "metadata": {}
  },
  {
   "cell_type": "markdown",
   "source": [
    "## Resample with librosa test"
   ],
   "metadata": {}
  },
  {
   "cell_type": "code",
   "execution_count": 144,
   "source": [
    "y,sr=librosa.load(pth, mono=True, sr=22050)\r\n",
    "sf.write(os.path.join(OUTPUT_FOLDER_PTH, video_file_name_without_extension+'_resample_mono.wav'), y, sr)\r\n",
    "\r\n",
    "info=pydub.utils.mediainfo(os.path.join(OUTPUT_FOLDER_PTH, video_file_name_without_extension+'_resample_mono.wav'))\r\n",
    "data={\r\n",
    "    'audio_name':audio_pth.split('.')[-2],\r\n",
    "    'sample_rate':int(info['sample_rate']),\r\n",
    "    'channels':int(info['channels']),\r\n",
    "    'bits_pre_sample':int(info['bits_per_sample']),\r\n",
    "    'duration': float(info['duration']),\r\n",
    "    'codec_long_name':str(info['codec_long_name']),\r\n",
    "    'size':int(info['size'])\r\n",
    "}\r\n",
    "\r\n",
    "pprint.pprint(data)"
   ],
   "outputs": [
    {
     "output_type": "stream",
     "name": "stdout",
     "text": [
      "{'audio_name': '\\\\output\\\\dia0_utt0',\n",
      " 'bits_pre_sample': 16,\n",
      " 'channels': 1,\n",
      " 'codec_long_name': 'PCM signed 16-bit little-endian',\n",
      " 'duration': 5.674694,\n",
      " 'sample_rate': 22050,\n",
      " 'size': 250298}\n"
     ]
    }
   ],
   "metadata": {}
  },
  {
   "cell_type": "markdown",
   "source": [
    "#### Note: We can resample during training with multiple workers in the background."
   ],
   "metadata": {}
  },
  {
   "cell_type": "markdown",
   "source": [
    "# Train dataset audio extraction"
   ],
   "metadata": {}
  },
  {
   "cell_type": "code",
   "execution_count": 91,
   "source": [
    "for video_file_name in os.listdir(TRAIN_VIDEO_FOLDER_PTH):\r\n",
    "    video_file_name_without_extension=video_file_name.split('.')[0]\r\n",
    "    video_file_pth=os.path.join(TRAIN_VIDEO_FOLDER_PTH, video_file_name)\r\n",
    "\r\n",
    "    os.system('ffmpeg -i {} -f wav {}'.format(video_file_pth, os.path.join(TRAIN_AUDIO_FOLDER_PTH, video_file_name_without_extension+'.wav')))"
   ],
   "outputs": [],
   "metadata": {}
  },
  {
   "cell_type": "markdown",
   "source": [],
   "metadata": {}
  },
  {
   "cell_type": "markdown",
   "source": [
    "# Dev dataset audio extraction"
   ],
   "metadata": {}
  },
  {
   "cell_type": "code",
   "execution_count": 111,
   "source": [
    "for video_file_name in os.listdir(DEV_VIDEO_FOLDER_PTH):\r\n",
    "    video_file_name_without_extension=video_file_name.split('.')[0]\r\n",
    "    video_file_pth=os.path.join(DEV_VIDEO_FOLDER_PTH, video_file_name)\r\n",
    "\r\n",
    "    os.system('ffmpeg -i {} -f wav {}'.format(video_file_pth, os.path.join(DEV_AUDIO_FOLDER_PTH, video_file_name_without_extension+'.wav')))"
   ],
   "outputs": [],
   "metadata": {}
  },
  {
   "cell_type": "markdown",
   "source": [],
   "metadata": {}
  }
 ],
 "metadata": {
  "orig_nbformat": 4,
  "language_info": {
   "name": "python",
   "version": "3.8.5",
   "mimetype": "text/x-python",
   "codemirror_mode": {
    "name": "ipython",
    "version": 3
   },
   "pygments_lexer": "ipython3",
   "nbconvert_exporter": "python",
   "file_extension": ".py"
  },
  "kernelspec": {
   "name": "python3",
   "display_name": "Python 3.8.5 64-bit ('multimodal-emotion-detection': conda)"
  },
  "interpreter": {
   "hash": "50ca60d7a2d95917e7105bd8b9444f0ad58e5f652b68bb3143648ecd032506df"
  }
 },
 "nbformat": 4,
 "nbformat_minor": 2
}