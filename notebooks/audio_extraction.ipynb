{
 "cells": [
  {
   "cell_type": "markdown",
   "metadata": {},
   "source": [
    "# Audio extraction in wav format from mp4 files"
   ]
  },
  {
   "cell_type": "code",
   "execution_count": 21,
   "metadata": {},
   "outputs": [
    {
     "name": "stdout",
     "output_type": "stream",
     "text": [
      "Requirement already satisfied: pydub in d:\\programdata\\anaconda3\\lib\\site-packages (0.25.1)\n",
      "Requirement already satisfied: ffmpeg in d:\\programdata\\anaconda3\\lib\\site-packages (1.4)\n"
     ]
    }
   ],
   "source": [
    "!pip install pydub\n",
    "!pip install ffmpeg"
   ]
  },
  {
   "cell_type": "code",
   "execution_count": 22,
   "metadata": {},
   "outputs": [
    {
     "name": "stdout",
     "output_type": "stream",
     "text": [
      "0.8.1\n"
     ]
    }
   ],
   "source": [
    "import os\n",
    "import pydub\n",
    "import librosa\n",
    "import soundfile as sf\n",
    "print(librosa.__version__)"
   ]
  },
  {
   "cell_type": "code",
   "execution_count": 36,
   "metadata": {},
   "outputs": [],
   "source": [
    "DATA_FOLDER_PTH=os.path.join(os.getcwd(), os.pardir, 'data')\n",
    "\n",
    "# raw\n",
    "TRAIN_VIDEO_FOLDER_PTH=os.path.join(DATA_FOLDER_PTH, 'raw/MELD/train', 'train_splits')\n",
    "TRAIN_TEXT_FILE_PTH=os.path.join(DATA_FOLDER_PTH, 'raw/MELD/train', 'train_sent_emo.csv')\n",
    "\n",
    "DEV_VIDEO_FOLDER_PTH=os.path.join(DATA_FOLDER_PTH, 'raw/MELD/dev', 'dev_splits_complete')\n",
    "DEV_TEXT_FILE_PTH=os.path.join(DATA_FOLDER_PTH, 'raw/MELD/dev', 'dev_sent_emo.csv')\n",
    "\n",
    "TEST_VIDEO_FOLDER_PTH=os.path.join(DATA_FOLDER_PTH, 'raw/MELD/test', 'output_repeated_splits_test')\n",
    "TEST_TEXT_FILE_PTH=os.path.join(DATA_FOLDER_PTH, 'raw/MELD/test', 'test_sent_emo.csv')\n",
    "\n",
    "# processed\n",
    "TRAIN_AUDIO_FOLDER_PTH=os.path.join(DATA_FOLDER_PTH, 'processed/MELD/train_wavs')\n",
    "DEV_AUDIO_FOLDER_PTH=os.path.join(DATA_FOLDER_PTH, 'processed/MELD/dev_wavs')\n",
    "TEST_AUDIO_FOLDER_PTH=os.path.join(DATA_FOLDER_PTH, 'processed/MELD/test_wavs')\n",
    "\n",
    "OUTPUT_FOLDER_PTH = os.path.join(DATA_FOLDER_PTH, 'processed/MELD/train_wavs')\n"
   ]
  },
  {
   "cell_type": "markdown",
   "metadata": {},
   "source": [
    "# Inspect Video files"
   ]
  },
  {
   "cell_type": "code",
   "execution_count": 37,
   "metadata": {},
   "outputs": [
    {
     "data": {
      "text/plain": [
       "['dia0_utt0.mp4',\n",
       " 'dia0_utt1.mp4',\n",
       " 'dia0_utt10.mp4',\n",
       " 'dia0_utt11.mp4',\n",
       " 'dia0_utt12.mp4',\n",
       " 'dia0_utt13.mp4',\n",
       " 'dia0_utt2.mp4',\n",
       " 'dia0_utt3.mp4',\n",
       " 'dia0_utt4.mp4',\n",
       " 'dia0_utt5.mp4']"
      ]
     },
     "execution_count": 37,
     "metadata": {},
     "output_type": "execute_result"
    }
   ],
   "source": [
    "os.listdir(TRAIN_VIDEO_FOLDER_PTH)[:10]"
   ]
  },
  {
   "cell_type": "markdown",
   "metadata": {},
   "source": [
    "# Testing Audio Extraction"
   ]
  },
  {
   "cell_type": "code",
   "execution_count": 42,
   "metadata": {},
   "outputs": [
    {
     "name": "stdout",
     "output_type": "stream",
     "text": [
      "d:\\multimodal-emotion-classification\\notebooks\\..\\data\\raw/MELD/train\\train_splits\\dia0_utt0.mp4\n",
      "d:\\multimodal-emotion-classification\\notebooks\\..\\data\\raw/MELD/train\\train_splits\n"
     ]
    }
   ],
   "source": [
    "video_file_name=os.listdir(TRAIN_VIDEO_FOLDER_PTH)[0]\n",
    "video_file_name_without_extension=video_file_name.split('.')[0]\n",
    "video_file_pth=os.path.join(TRAIN_VIDEO_FOLDER_PTH, video_file_name)\n",
    "print(video_file_pth)\n",
    "print(OUTPUT_FOLDER_PTH)"
   ]
  },
  {
   "cell_type": "code",
   "execution_count": 39,
   "metadata": {},
   "outputs": [
    {
     "data": {
      "text/plain": [
       "1"
      ]
     },
     "execution_count": 39,
     "metadata": {},
     "output_type": "execute_result"
    }
   ],
   "source": [
    "os.system('ffmpeg -i {} -f wav {} '.format(video_file_pth, os.path.join(OUTPUT_FOLDER_PTH, video_file_name_without_extension+'.wav')))"
   ]
  },
  {
   "cell_type": "markdown",
   "metadata": {},
   "source": [
    "## View output format"
   ]
  },
  {
   "cell_type": "code",
   "execution_count": 40,
   "metadata": {},
   "outputs": [
    {
     "ename": "FileNotFoundError",
     "evalue": "[WinError 2] The system cannot find the file specified",
     "output_type": "error",
     "traceback": [
      "\u001b[1;31m---------------------------------------------------------------------------\u001b[0m",
      "\u001b[1;31mFileNotFoundError\u001b[0m                         Traceback (most recent call last)",
      "\u001b[1;32m<ipython-input-40-36091143591a>\u001b[0m in \u001b[0;36m<module>\u001b[1;34m\u001b[0m\n\u001b[0;32m      1\u001b[0m \u001b[1;32mimport\u001b[0m \u001b[0mpprint\u001b[0m\u001b[1;33m\u001b[0m\u001b[1;33m\u001b[0m\u001b[0m\n\u001b[0;32m      2\u001b[0m \u001b[1;33m\u001b[0m\u001b[0m\n\u001b[1;32m----> 3\u001b[1;33m \u001b[0minfo\u001b[0m\u001b[1;33m=\u001b[0m\u001b[0mpydub\u001b[0m\u001b[1;33m.\u001b[0m\u001b[0mutils\u001b[0m\u001b[1;33m.\u001b[0m\u001b[0mmediainfo\u001b[0m\u001b[1;33m(\u001b[0m\u001b[0mos\u001b[0m\u001b[1;33m.\u001b[0m\u001b[0mpath\u001b[0m\u001b[1;33m.\u001b[0m\u001b[0mjoin\u001b[0m\u001b[1;33m(\u001b[0m\u001b[0mOUTPUT_FOLDER_PTH\u001b[0m\u001b[1;33m,\u001b[0m \u001b[0mvideo_file_name_without_extension\u001b[0m\u001b[1;33m+\u001b[0m\u001b[1;34m'.wav'\u001b[0m\u001b[1;33m)\u001b[0m\u001b[1;33m)\u001b[0m\u001b[1;33m\u001b[0m\u001b[1;33m\u001b[0m\u001b[0m\n\u001b[0m\u001b[0;32m      4\u001b[0m data={\n\u001b[0;32m      5\u001b[0m     \u001b[1;34m'audio_name'\u001b[0m\u001b[1;33m:\u001b[0m\u001b[0maudio_pth\u001b[0m\u001b[1;33m.\u001b[0m\u001b[0msplit\u001b[0m\u001b[1;33m(\u001b[0m\u001b[1;34m'.'\u001b[0m\u001b[1;33m)\u001b[0m\u001b[1;33m[\u001b[0m\u001b[1;33m-\u001b[0m\u001b[1;36m2\u001b[0m\u001b[1;33m]\u001b[0m\u001b[1;33m,\u001b[0m\u001b[1;33m\u001b[0m\u001b[1;33m\u001b[0m\u001b[0m\n",
      "\u001b[1;32mD:\\ProgramData\\Anaconda3\\lib\\site-packages\\pydub\\utils.py\u001b[0m in \u001b[0;36mmediainfo\u001b[1;34m(filepath)\u001b[0m\n\u001b[0;32m    332\u001b[0m \u001b[1;33m\u001b[0m\u001b[0m\n\u001b[0;32m    333\u001b[0m     \u001b[0mcommand\u001b[0m \u001b[1;33m=\u001b[0m \u001b[1;33m[\u001b[0m\u001b[0mprober\u001b[0m\u001b[1;33m,\u001b[0m \u001b[1;34m'-of'\u001b[0m\u001b[1;33m,\u001b[0m \u001b[1;34m'old'\u001b[0m\u001b[1;33m]\u001b[0m \u001b[1;33m+\u001b[0m \u001b[0mcommand_args\u001b[0m\u001b[1;33m\u001b[0m\u001b[1;33m\u001b[0m\u001b[0m\n\u001b[1;32m--> 334\u001b[1;33m     \u001b[0mres\u001b[0m \u001b[1;33m=\u001b[0m \u001b[0mPopen\u001b[0m\u001b[1;33m(\u001b[0m\u001b[0mcommand\u001b[0m\u001b[1;33m,\u001b[0m \u001b[0mstdout\u001b[0m\u001b[1;33m=\u001b[0m\u001b[0mPIPE\u001b[0m\u001b[1;33m)\u001b[0m\u001b[1;33m\u001b[0m\u001b[1;33m\u001b[0m\u001b[0m\n\u001b[0m\u001b[0;32m    335\u001b[0m     \u001b[0moutput\u001b[0m \u001b[1;33m=\u001b[0m \u001b[0mres\u001b[0m\u001b[1;33m.\u001b[0m\u001b[0mcommunicate\u001b[0m\u001b[1;33m(\u001b[0m\u001b[1;33m)\u001b[0m\u001b[1;33m[\u001b[0m\u001b[1;36m0\u001b[0m\u001b[1;33m]\u001b[0m\u001b[1;33m.\u001b[0m\u001b[0mdecode\u001b[0m\u001b[1;33m(\u001b[0m\u001b[1;34m\"utf-8\"\u001b[0m\u001b[1;33m)\u001b[0m\u001b[1;33m\u001b[0m\u001b[1;33m\u001b[0m\u001b[0m\n\u001b[0;32m    336\u001b[0m \u001b[1;33m\u001b[0m\u001b[0m\n",
      "\u001b[1;32mD:\\ProgramData\\Anaconda3\\lib\\subprocess.py\u001b[0m in \u001b[0;36m__init__\u001b[1;34m(self, args, bufsize, executable, stdin, stdout, stderr, preexec_fn, close_fds, shell, cwd, env, universal_newlines, startupinfo, creationflags, restore_signals, start_new_session, pass_fds, encoding, errors, text)\u001b[0m\n\u001b[0;32m    852\u001b[0m                             encoding=encoding, errors=errors)\n\u001b[0;32m    853\u001b[0m \u001b[1;33m\u001b[0m\u001b[0m\n\u001b[1;32m--> 854\u001b[1;33m             self._execute_child(args, executable, preexec_fn, close_fds,\n\u001b[0m\u001b[0;32m    855\u001b[0m                                 \u001b[0mpass_fds\u001b[0m\u001b[1;33m,\u001b[0m \u001b[0mcwd\u001b[0m\u001b[1;33m,\u001b[0m \u001b[0menv\u001b[0m\u001b[1;33m,\u001b[0m\u001b[1;33m\u001b[0m\u001b[1;33m\u001b[0m\u001b[0m\n\u001b[0;32m    856\u001b[0m                                 \u001b[0mstartupinfo\u001b[0m\u001b[1;33m,\u001b[0m \u001b[0mcreationflags\u001b[0m\u001b[1;33m,\u001b[0m \u001b[0mshell\u001b[0m\u001b[1;33m,\u001b[0m\u001b[1;33m\u001b[0m\u001b[1;33m\u001b[0m\u001b[0m\n",
      "\u001b[1;32mD:\\ProgramData\\Anaconda3\\lib\\subprocess.py\u001b[0m in \u001b[0;36m_execute_child\u001b[1;34m(self, args, executable, preexec_fn, close_fds, pass_fds, cwd, env, startupinfo, creationflags, shell, p2cread, p2cwrite, c2pread, c2pwrite, errread, errwrite, unused_restore_signals, unused_start_new_session)\u001b[0m\n\u001b[0;32m   1305\u001b[0m             \u001b[1;31m# Start the process\u001b[0m\u001b[1;33m\u001b[0m\u001b[1;33m\u001b[0m\u001b[1;33m\u001b[0m\u001b[0m\n\u001b[0;32m   1306\u001b[0m             \u001b[1;32mtry\u001b[0m\u001b[1;33m:\u001b[0m\u001b[1;33m\u001b[0m\u001b[1;33m\u001b[0m\u001b[0m\n\u001b[1;32m-> 1307\u001b[1;33m                 hp, ht, pid, tid = _winapi.CreateProcess(executable, args,\n\u001b[0m\u001b[0;32m   1308\u001b[0m                                          \u001b[1;31m# no special security\u001b[0m\u001b[1;33m\u001b[0m\u001b[1;33m\u001b[0m\u001b[1;33m\u001b[0m\u001b[0m\n\u001b[0;32m   1309\u001b[0m                                          \u001b[1;32mNone\u001b[0m\u001b[1;33m,\u001b[0m \u001b[1;32mNone\u001b[0m\u001b[1;33m,\u001b[0m\u001b[1;33m\u001b[0m\u001b[1;33m\u001b[0m\u001b[0m\n",
      "\u001b[1;31mFileNotFoundError\u001b[0m: [WinError 2] The system cannot find the file specified"
     ]
    }
   ],
   "source": [
    "import pprint\n",
    "\n",
    "info=pydub.utils.mediainfo(os.path.join(OUTPUT_FOLDER_PTH, video_file_name_without_extension+'.wav'))\n",
    "data={\n",
    "    'audio_name':audio_pth.split('.')[-2],\n",
    "    'sample_rate':int(info['sample_rate']),\n",
    "    'channels':int(info['channels']),\n",
    "    'bits_pre_sample':int(info['bits_per_sample']),\n",
    "    'duration': float(info['duration']),\n",
    "    'codec_long_name':str(info['codec_long_name']),\n",
    "    'size':int(info['size'])\n",
    "}\n",
    "\n",
    "pprint.pprint(data)"
   ]
  },
  {
   "cell_type": "code",
   "execution_count": 137,
   "metadata": {},
   "outputs": [
    {
     "name": "stdout",
     "output_type": "stream",
     "text": [
      "e:\\machine_learning\\projects\\multimodal-emotion-classification\\notebooks\\..\\output\\dia0_utt0.wav\n",
      "(2, 250253)\n",
      "44100\n"
     ]
    }
   ],
   "source": [
    "pth=os.path.join(OUTPUT_FOLDER_PTH, video_file_name_without_extension+'.wav')\n",
    "y,sr=librosa.load(pth, mono=False, sr=None)\n",
    "print(pth)\n",
    "print(y.shape)\n",
    "print(sr)"
   ]
  },
  {
   "cell_type": "markdown",
   "metadata": {},
   "source": [
    "## Resample with librosa test"
   ]
  },
  {
   "cell_type": "code",
   "execution_count": 144,
   "metadata": {},
   "outputs": [
    {
     "name": "stdout",
     "output_type": "stream",
     "text": [
      "{'audio_name': '\\\\output\\\\dia0_utt0',\n",
      " 'bits_pre_sample': 16,\n",
      " 'channels': 1,\n",
      " 'codec_long_name': 'PCM signed 16-bit little-endian',\n",
      " 'duration': 5.674694,\n",
      " 'sample_rate': 22050,\n",
      " 'size': 250298}\n"
     ]
    }
   ],
   "source": [
    "y,sr=librosa.load(pth, mono=True, sr=22050)\n",
    "sf.write(os.path.join(OUTPUT_FOLDER_PTH, video_file_name_without_extension+'_resample_mono.wav'), y, sr)\n",
    "\n",
    "info=pydub.utils.mediainfo(os.path.join(OUTPUT_FOLDER_PTH, video_file_name_without_extension+'_resample_mono.wav'))\n",
    "data={\n",
    "    'audio_name':audio_pth.split('.')[-2],\n",
    "    'sample_rate':int(info['sample_rate']),\n",
    "    'channels':int(info['channels']),\n",
    "    'bits_pre_sample':int(info['bits_per_sample']),\n",
    "    'duration': float(info['duration']),\n",
    "    'codec_long_name':str(info['codec_long_name']),\n",
    "    'size':int(info['size'])\n",
    "}\n",
    "\n",
    "pprint.pprint(data)"
   ]
  },
  {
   "cell_type": "markdown",
   "metadata": {},
   "source": [
    "#### Note: We can resample during training with multiple workers in the background."
   ]
  },
  {
   "cell_type": "markdown",
   "metadata": {},
   "source": [
    "# Train dataset audio extraction"
   ]
  },
  {
   "cell_type": "code",
   "execution_count": 91,
   "metadata": {},
   "outputs": [],
   "source": [
    "for video_file_name in os.listdir(TRAIN_VIDEO_FOLDER_PTH):\n",
    "    video_file_name_without_extension=video_file_name.split('.')[0]\n",
    "    video_file_pth=os.path.join(TRAIN_VIDEO_FOLDER_PTH, video_file_name)\n",
    "\n",
    "    os.system('ffmpeg -i {} -f wav {}'.format(video_file_pth, os.path.join(TRAIN_AUDIO_FOLDER_PTH, video_file_name_without_extension+'.wav')))"
   ]
  },
  {
   "cell_type": "markdown",
   "metadata": {},
   "source": []
  },
  {
   "cell_type": "markdown",
   "metadata": {},
   "source": [
    "# Dev dataset audio extraction"
   ]
  },
  {
   "cell_type": "code",
   "execution_count": 111,
   "metadata": {},
   "outputs": [],
   "source": [
    "for video_file_name in os.listdir(DEV_VIDEO_FOLDER_PTH):\n",
    "    video_file_name_without_extension=video_file_name.split('.')[0]\n",
    "    video_file_pth=os.path.join(DEV_VIDEO_FOLDER_PTH, video_file_name)\n",
    "\n",
    "    os.system('ffmpeg -i {} -f wav {}'.format(video_file_pth, os.path.join(DEV_AUDIO_FOLDER_PTH, video_file_name_without_extension+'.wav')))"
   ]
  },
  {
   "cell_type": "markdown",
   "metadata": {},
   "source": []
  }
 ],
 "metadata": {
  "interpreter": {
   "hash": "50ca60d7a2d95917e7105bd8b9444f0ad58e5f652b68bb3143648ecd032506df"
  },
  "kernelspec": {
   "display_name": "Python 3",
   "language": "python",
   "name": "python3"
  },
  "language_info": {
   "codemirror_mode": {
    "name": "ipython",
    "version": 3
   },
   "file_extension": ".py",
   "mimetype": "text/x-python",
   "name": "python",
   "nbconvert_exporter": "python",
   "pygments_lexer": "ipython3",
   "version": "3.8.3"
  }
 },
 "nbformat": 4,
 "nbformat_minor": 2
}
