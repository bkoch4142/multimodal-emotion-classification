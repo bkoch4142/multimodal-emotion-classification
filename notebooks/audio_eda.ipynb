{
 "cells": [
  {
   "cell_type": "code",
   "execution_count": null,
   "source": [],
   "outputs": [],
   "metadata": {}
  },
  {
   "cell_type": "code",
   "execution_count": null,
   "source": [],
   "outputs": [],
   "metadata": {}
  },
  {
   "cell_type": "markdown",
   "source": [
    "# Audio EDA"
   ],
   "metadata": {}
  },
  {
   "cell_type": "markdown",
   "source": [
    "#### Note: EDA is done on raw audio files without resampling and channel reduction which will be needed in training"
   ],
   "metadata": {}
  },
  {
   "cell_type": "code",
   "execution_count": 37,
   "source": [
    "import os\r\n",
    "import pydub\r\n",
    "import pandas as pd\r\n",
    "import seaborn as sns\r\n",
    "import matplotlib.pyplot as plt\r\n",
    "import librosa"
   ],
   "outputs": [],
   "metadata": {}
  },
  {
   "cell_type": "code",
   "execution_count": 2,
   "source": [
    "DATA_FOLDER_PTH=os.path.join(os.getcwd(), os.pardir, 'data')\r\n",
    "\r\n",
    "# processed\r\n",
    "TRAIN_AUDIO_FOLDER_PTH=os.path.join(DATA_FOLDER_PTH, 'processed/MELD/train_wavs')\r\n",
    "DEV_AUDIO_FOLDER_PTH=os.path.join(DATA_FOLDER_PTH, 'processed/MELD/dev_wavs')\r\n",
    "TEST_AUDIO_FOLDER_PTH=os.path.join(DATA_FOLDER_PTH, 'processed/MELD/test_wavs')"
   ],
   "outputs": [],
   "metadata": {}
  },
  {
   "cell_type": "code",
   "execution_count": 12,
   "source": [
    "if os.path.exists(os.path.join(os.getcwd(),os.pardir,'data/processed/MELD/train_wavs_stats.csv'))==False:\r\n",
    "    audio_data=pd.DataFrame(columns=['sample_rate','channels','bits_pre_sample','duration','codec_long_name','size'])\r\n",
    "    for audio_name in os.listdir(TRAIN_AUDIO_FOLDER_PTH):\r\n",
    "        audio_pth=os.path.join(TRAIN_AUDIO_FOLDER_PTH,audio_name)\r\n",
    "        info=pydub.utils.mediainfo(audio_pth)\r\n",
    "        \r\n",
    "        data={\r\n",
    "            'audio_name':audio_name,\r\n",
    "            'sample_rate':int(info['sample_rate']),\r\n",
    "            'channels':int(info['channels']),\r\n",
    "            'bits_pre_sample':int(info['bits_per_sample']),\r\n",
    "            'duration': float(info['duration']),\r\n",
    "            'codec_long_name':str(info['codec_long_name']),\r\n",
    "            'size':int(info['size'])\r\n",
    "        }\r\n",
    "        \r\n",
    "        audio_data=audio_data.append(data,ignore_index=True)\r\n",
    "    audio_data.to_csv(os.path.join(os.getcwd(),os.pardir,'data/processed/MELD/train_wavs_stats.csv'),index=False)\r\n",
    "else:\r\n",
    "    audio_data=pd.read_csv(os.path.join(os.getcwd(),os.pardir,'data/processed/MELD/train_wavs_stats.csv'))"
   ],
   "outputs": [],
   "metadata": {}
  },
  {
   "cell_type": "code",
   "execution_count": 13,
   "source": [
    "audio_data.head()"
   ],
   "outputs": [
    {
     "output_type": "execute_result",
     "data": {
      "text/plain": [
       "   sample_rate  channels  bits_pre_sample  duration  \\\n",
       "0        48000         2               16  5.674667   \n",
       "1        48000         2               16  1.472000   \n",
       "2        48000         2               16  2.005333   \n",
       "3        48000         2               16  8.320000   \n",
       "4        48000         2               16  3.050667   \n",
       "\n",
       "                   codec_long_name     size      audio_name  \n",
       "0  PCM signed 16-bit little-endian  1089614   dia0_utt0.wav  \n",
       "1  PCM signed 16-bit little-endian   282702   dia0_utt1.wav  \n",
       "2  PCM signed 16-bit little-endian   385102  dia0_utt10.wav  \n",
       "3  PCM signed 16-bit little-endian  1597518  dia0_utt11.wav  \n",
       "4  PCM signed 16-bit little-endian   585806  dia0_utt12.wav  "
      ],
      "text/html": [
       "<div>\n",
       "<style scoped>\n",
       "    .dataframe tbody tr th:only-of-type {\n",
       "        vertical-align: middle;\n",
       "    }\n",
       "\n",
       "    .dataframe tbody tr th {\n",
       "        vertical-align: top;\n",
       "    }\n",
       "\n",
       "    .dataframe thead th {\n",
       "        text-align: right;\n",
       "    }\n",
       "</style>\n",
       "<table border=\"1\" class=\"dataframe\">\n",
       "  <thead>\n",
       "    <tr style=\"text-align: right;\">\n",
       "      <th></th>\n",
       "      <th>sample_rate</th>\n",
       "      <th>channels</th>\n",
       "      <th>bits_pre_sample</th>\n",
       "      <th>duration</th>\n",
       "      <th>codec_long_name</th>\n",
       "      <th>size</th>\n",
       "      <th>audio_name</th>\n",
       "    </tr>\n",
       "  </thead>\n",
       "  <tbody>\n",
       "    <tr>\n",
       "      <th>0</th>\n",
       "      <td>48000</td>\n",
       "      <td>2</td>\n",
       "      <td>16</td>\n",
       "      <td>5.674667</td>\n",
       "      <td>PCM signed 16-bit little-endian</td>\n",
       "      <td>1089614</td>\n",
       "      <td>dia0_utt0.wav</td>\n",
       "    </tr>\n",
       "    <tr>\n",
       "      <th>1</th>\n",
       "      <td>48000</td>\n",
       "      <td>2</td>\n",
       "      <td>16</td>\n",
       "      <td>1.472000</td>\n",
       "      <td>PCM signed 16-bit little-endian</td>\n",
       "      <td>282702</td>\n",
       "      <td>dia0_utt1.wav</td>\n",
       "    </tr>\n",
       "    <tr>\n",
       "      <th>2</th>\n",
       "      <td>48000</td>\n",
       "      <td>2</td>\n",
       "      <td>16</td>\n",
       "      <td>2.005333</td>\n",
       "      <td>PCM signed 16-bit little-endian</td>\n",
       "      <td>385102</td>\n",
       "      <td>dia0_utt10.wav</td>\n",
       "    </tr>\n",
       "    <tr>\n",
       "      <th>3</th>\n",
       "      <td>48000</td>\n",
       "      <td>2</td>\n",
       "      <td>16</td>\n",
       "      <td>8.320000</td>\n",
       "      <td>PCM signed 16-bit little-endian</td>\n",
       "      <td>1597518</td>\n",
       "      <td>dia0_utt11.wav</td>\n",
       "    </tr>\n",
       "    <tr>\n",
       "      <th>4</th>\n",
       "      <td>48000</td>\n",
       "      <td>2</td>\n",
       "      <td>16</td>\n",
       "      <td>3.050667</td>\n",
       "      <td>PCM signed 16-bit little-endian</td>\n",
       "      <td>585806</td>\n",
       "      <td>dia0_utt12.wav</td>\n",
       "    </tr>\n",
       "  </tbody>\n",
       "</table>\n",
       "</div>"
      ]
     },
     "metadata": {},
     "execution_count": 13
    }
   ],
   "metadata": {}
  },
  {
   "cell_type": "code",
   "execution_count": 14,
   "source": [
    "audio_data.describe()"
   ],
   "outputs": [
    {
     "output_type": "execute_result",
     "data": {
      "text/plain": [
       "       sample_rate     channels  bits_pre_sample     duration          size\n",
       "count       9988.0  9988.000000           9988.0  9988.000000  9.988000e+03\n",
       "mean       48000.0     5.552663             16.0     3.142124  1.670729e+06\n",
       "std            0.0     1.260713              0.0     2.428665  1.375472e+06\n",
       "min        48000.0     2.000000             16.0     0.064000  1.236600e+04\n",
       "25%        48000.0     6.000000             16.0     1.557333  7.742460e+05\n",
       "50%        48000.0     6.000000             16.0     2.474667  1.278054e+06\n",
       "75%        48000.0     6.000000             16.0     3.925333  2.113638e+06\n",
       "max        48000.0     6.000000             16.0    41.045333  2.364221e+07"
      ],
      "text/html": [
       "<div>\n",
       "<style scoped>\n",
       "    .dataframe tbody tr th:only-of-type {\n",
       "        vertical-align: middle;\n",
       "    }\n",
       "\n",
       "    .dataframe tbody tr th {\n",
       "        vertical-align: top;\n",
       "    }\n",
       "\n",
       "    .dataframe thead th {\n",
       "        text-align: right;\n",
       "    }\n",
       "</style>\n",
       "<table border=\"1\" class=\"dataframe\">\n",
       "  <thead>\n",
       "    <tr style=\"text-align: right;\">\n",
       "      <th></th>\n",
       "      <th>sample_rate</th>\n",
       "      <th>channels</th>\n",
       "      <th>bits_pre_sample</th>\n",
       "      <th>duration</th>\n",
       "      <th>size</th>\n",
       "    </tr>\n",
       "  </thead>\n",
       "  <tbody>\n",
       "    <tr>\n",
       "      <th>count</th>\n",
       "      <td>9988.0</td>\n",
       "      <td>9988.000000</td>\n",
       "      <td>9988.0</td>\n",
       "      <td>9988.000000</td>\n",
       "      <td>9.988000e+03</td>\n",
       "    </tr>\n",
       "    <tr>\n",
       "      <th>mean</th>\n",
       "      <td>48000.0</td>\n",
       "      <td>5.552663</td>\n",
       "      <td>16.0</td>\n",
       "      <td>3.142124</td>\n",
       "      <td>1.670729e+06</td>\n",
       "    </tr>\n",
       "    <tr>\n",
       "      <th>std</th>\n",
       "      <td>0.0</td>\n",
       "      <td>1.260713</td>\n",
       "      <td>0.0</td>\n",
       "      <td>2.428665</td>\n",
       "      <td>1.375472e+06</td>\n",
       "    </tr>\n",
       "    <tr>\n",
       "      <th>min</th>\n",
       "      <td>48000.0</td>\n",
       "      <td>2.000000</td>\n",
       "      <td>16.0</td>\n",
       "      <td>0.064000</td>\n",
       "      <td>1.236600e+04</td>\n",
       "    </tr>\n",
       "    <tr>\n",
       "      <th>25%</th>\n",
       "      <td>48000.0</td>\n",
       "      <td>6.000000</td>\n",
       "      <td>16.0</td>\n",
       "      <td>1.557333</td>\n",
       "      <td>7.742460e+05</td>\n",
       "    </tr>\n",
       "    <tr>\n",
       "      <th>50%</th>\n",
       "      <td>48000.0</td>\n",
       "      <td>6.000000</td>\n",
       "      <td>16.0</td>\n",
       "      <td>2.474667</td>\n",
       "      <td>1.278054e+06</td>\n",
       "    </tr>\n",
       "    <tr>\n",
       "      <th>75%</th>\n",
       "      <td>48000.0</td>\n",
       "      <td>6.000000</td>\n",
       "      <td>16.0</td>\n",
       "      <td>3.925333</td>\n",
       "      <td>2.113638e+06</td>\n",
       "    </tr>\n",
       "    <tr>\n",
       "      <th>max</th>\n",
       "      <td>48000.0</td>\n",
       "      <td>6.000000</td>\n",
       "      <td>16.0</td>\n",
       "      <td>41.045333</td>\n",
       "      <td>2.364221e+07</td>\n",
       "    </tr>\n",
       "  </tbody>\n",
       "</table>\n",
       "</div>"
      ]
     },
     "metadata": {},
     "execution_count": 14
    }
   ],
   "metadata": {}
  },
  {
   "cell_type": "code",
   "execution_count": 15,
   "source": [
    "audio_data.info()"
   ],
   "outputs": [
    {
     "output_type": "stream",
     "name": "stdout",
     "text": [
      "<class 'pandas.core.frame.DataFrame'>\n",
      "RangeIndex: 9988 entries, 0 to 9987\n",
      "Data columns (total 7 columns):\n",
      " #   Column           Non-Null Count  Dtype  \n",
      "---  ------           --------------  -----  \n",
      " 0   sample_rate      9988 non-null   int64  \n",
      " 1   channels         9988 non-null   int64  \n",
      " 2   bits_pre_sample  9988 non-null   int64  \n",
      " 3   duration         9988 non-null   float64\n",
      " 4   codec_long_name  9988 non-null   object \n",
      " 5   size             9988 non-null   int64  \n",
      " 6   audio_name       9988 non-null   object \n",
      "dtypes: float64(1), int64(4), object(2)\n",
      "memory usage: 546.3+ KB\n"
     ]
    }
   ],
   "metadata": {}
  },
  {
   "cell_type": "code",
   "execution_count": 16,
   "source": [
    "audio_data.nunique()"
   ],
   "outputs": [
    {
     "output_type": "execute_result",
     "data": {
      "text/plain": [
       "sample_rate           1\n",
       "channels              2\n",
       "bits_pre_sample       1\n",
       "duration            466\n",
       "codec_long_name       1\n",
       "size                765\n",
       "audio_name         9988\n",
       "dtype: int64"
      ]
     },
     "metadata": {},
     "execution_count": 16
    }
   ],
   "metadata": {}
  },
  {
   "cell_type": "markdown",
   "source": [
    "#### Note: Not everything is 2 channel audio"
   ],
   "metadata": {}
  },
  {
   "cell_type": "markdown",
   "source": [
    "## Inspect channels"
   ],
   "metadata": {}
  },
  {
   "cell_type": "code",
   "execution_count": 19,
   "source": [
    "audio_data.channels.unique()"
   ],
   "outputs": [
    {
     "output_type": "execute_result",
     "data": {
      "text/plain": [
       "array([2, 6], dtype=int64)"
      ]
     },
     "metadata": {},
     "execution_count": 19
    }
   ],
   "metadata": {}
  },
  {
   "cell_type": "code",
   "execution_count": 24,
   "source": [
    "print(len(audio_data[audio_data.channels==6]))\r\n",
    "print(len(audio_data[audio_data.channels==2]))\r\n",
    "# Comment: most is 6 channel actually"
   ],
   "outputs": [
    {
     "output_type": "stream",
     "name": "stdout",
     "text": [
      "8871\n",
      "1117\n"
     ]
    }
   ],
   "metadata": {}
  },
  {
   "cell_type": "markdown",
   "source": [
    "## Inspect duration distribution"
   ],
   "metadata": {}
  },
  {
   "cell_type": "code",
   "execution_count": 41,
   "source": [
    "fig,ax=plt.subplots(figsize=(10,10))\r\n",
    "sns.histplot(ax=ax, data=audio_data.duration, kde=True, bins=100)"
   ],
   "outputs": [
    {
     "output_type": "execute_result",
     "data": {
      "text/plain": [
       "<AxesSubplot:xlabel='duration', ylabel='Count'>"
      ]
     },
     "metadata": {},
     "execution_count": 41
    },
    {
     "output_type": "display_data",
     "data": {
      "text/plain": [
       "<Figure size 720x720 with 1 Axes>"
      ],
      "image/png": "[encoded data removed]"
     },
     "metadata": {
      "needs_background": "light"
     }
    }
   ],
   "metadata": {}
  },
  {
   "cell_type": "markdown",
   "source": [],
   "metadata": {}
  }
 ],
 "metadata": {
  "orig_nbformat": 4,
  "language_info": {
   "name": "python",
   "version": "3.8.5",
   "mimetype": "text/x-python",
   "codemirror_mode": {
    "name": "ipython",
    "version": 3
   },
   "pygments_lexer": "ipython3",
   "nbconvert_exporter": "python",
   "file_extension": ".py"
  },
  "kernelspec": {
   "name": "python3",
   "display_name": "Python 3.8.5 64-bit ('multimodal-emotion-detection': conda)"
  },
  "interpreter": {
   "hash": "50ca60d7a2d95917e7105bd8b9444f0ad58e5f652b68bb3143648ecd032506df"
  }
 },
 "nbformat": 4,
 "nbformat_minor": 2
}